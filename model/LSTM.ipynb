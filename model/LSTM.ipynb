{
  "nbformat": 4,
  "nbformat_minor": 0,
  "metadata": {
    "colab": {
      "provenance": [],
      "gpuType": "T4"
    },
    "kernelspec": {
      "name": "python3",
      "display_name": "Python 3"
    },
    "language_info": {
      "name": "python"
    },
    "accelerator": "GPU"
  },
  "cells": [
    {
      "cell_type": "code",
      "source": [
        "# !pip install pandas-datareader\n",
        "# !pip install yfinance"
      ],
      "metadata": {
        "id": "lPijur05FO3d"
      },
      "execution_count": 117,
      "outputs": []
    },
    {
      "cell_type": "code",
      "source": [
        "import numpy as np\n",
        "import pandas as pd\n",
        "import pandas_datareader.data as pdr\n",
        "import matplotlib.pyplot as plt\n",
        "\n",
        "import datetime\n",
        "\n",
        "import torch\n",
        "import torch.nn as nn\n",
        "from torch.autograd import Variable\n",
        "\n",
        "import torch.optim as optim\n",
        "from torch.utils.data import Dataset, DataLoader\n",
        "from sklearn.preprocessing import StandardScaler, MinMaxScaler\n",
        "\n",
        "device = torch.device('cuda' if torch.cuda.is_available() else 'cpu')\n",
        "print(device)"
      ],
      "metadata": {
        "colab": {
          "base_uri": "https://localhost:8080/"
        },
        "id": "MtKCAEZ890cy",
        "outputId": "4fa4dd54-93b8-4760-adeb-a258d95015d6"
      },
      "execution_count": 118,
      "outputs": [
        {
          "output_type": "stream",
          "name": "stdout",
          "text": [
            "cuda\n"
          ]
        }
      ]
    },
    {
      "cell_type": "markdown",
      "source": [
        "### 삼성 전자 주식 불러오기"
      ],
      "metadata": {
        "id": "ryoN6oZzEj3w"
      }
    },
    {
      "cell_type": "code",
      "source": [
        "df = pd.read_csv('https://raw.githubusercontent.com/zzhining/python_data_basic/main/3%EC%9E%A5/005930.KS.csv', index_col = 0)\n",
        "df.head()"
      ],
      "metadata": {
        "colab": {
          "base_uri": "https://localhost:8080/",
          "height": 238
        },
        "id": "q8fPfznKFHND",
        "outputId": "f11293f3-fd5f-4130-c832-c43a1b389bc5"
      },
      "execution_count": 119,
      "outputs": [
        {
          "output_type": "execute_result",
          "data": {
            "text/plain": [
              "             Open   High    Low  Close    Adj Close    Volume\n",
              "Date                                                         \n",
              "2020-01-02  55500  56000  55000  55200  52537.17969  12993228\n",
              "2020-01-03  56000  56600  54900  55500  52822.70703  15422255\n",
              "2020-01-06  54900  55600  54600  55500  52822.70703  10278951\n",
              "2020-01-07  55700  56400  55600  55800  53108.23828  10009778\n",
              "2020-01-08  56200  57400  55900  56800  54059.99219  23501171"
            ],
            "text/html": [
              "\n",
              "  <div id=\"df-6a1d1654-7c69-40b7-84ee-aeba20041b61\" class=\"colab-df-container\">\n",
              "    <div>\n",
              "<style scoped>\n",
              "    .dataframe tbody tr th:only-of-type {\n",
              "        vertical-align: middle;\n",
              "    }\n",
              "\n",
              "    .dataframe tbody tr th {\n",
              "        vertical-align: top;\n",
              "    }\n",
              "\n",
              "    .dataframe thead th {\n",
              "        text-align: right;\n",
              "    }\n",
              "</style>\n",
              "<table border=\"1\" class=\"dataframe\">\n",
              "  <thead>\n",
              "    <tr style=\"text-align: right;\">\n",
              "      <th></th>\n",
              "      <th>Open</th>\n",
              "      <th>High</th>\n",
              "      <th>Low</th>\n",
              "      <th>Close</th>\n",
              "      <th>Adj Close</th>\n",
              "      <th>Volume</th>\n",
              "    </tr>\n",
              "    <tr>\n",
              "      <th>Date</th>\n",
              "      <th></th>\n",
              "      <th></th>\n",
              "      <th></th>\n",
              "      <th></th>\n",
              "      <th></th>\n",
              "      <th></th>\n",
              "    </tr>\n",
              "  </thead>\n",
              "  <tbody>\n",
              "    <tr>\n",
              "      <th>2020-01-02</th>\n",
              "      <td>55500</td>\n",
              "      <td>56000</td>\n",
              "      <td>55000</td>\n",
              "      <td>55200</td>\n",
              "      <td>52537.17969</td>\n",
              "      <td>12993228</td>\n",
              "    </tr>\n",
              "    <tr>\n",
              "      <th>2020-01-03</th>\n",
              "      <td>56000</td>\n",
              "      <td>56600</td>\n",
              "      <td>54900</td>\n",
              "      <td>55500</td>\n",
              "      <td>52822.70703</td>\n",
              "      <td>15422255</td>\n",
              "    </tr>\n",
              "    <tr>\n",
              "      <th>2020-01-06</th>\n",
              "      <td>54900</td>\n",
              "      <td>55600</td>\n",
              "      <td>54600</td>\n",
              "      <td>55500</td>\n",
              "      <td>52822.70703</td>\n",
              "      <td>10278951</td>\n",
              "    </tr>\n",
              "    <tr>\n",
              "      <th>2020-01-07</th>\n",
              "      <td>55700</td>\n",
              "      <td>56400</td>\n",
              "      <td>55600</td>\n",
              "      <td>55800</td>\n",
              "      <td>53108.23828</td>\n",
              "      <td>10009778</td>\n",
              "    </tr>\n",
              "    <tr>\n",
              "      <th>2020-01-08</th>\n",
              "      <td>56200</td>\n",
              "      <td>57400</td>\n",
              "      <td>55900</td>\n",
              "      <td>56800</td>\n",
              "      <td>54059.99219</td>\n",
              "      <td>23501171</td>\n",
              "    </tr>\n",
              "  </tbody>\n",
              "</table>\n",
              "</div>\n",
              "    <div class=\"colab-df-buttons\">\n",
              "\n",
              "  <div class=\"colab-df-container\">\n",
              "    <button class=\"colab-df-convert\" onclick=\"convertToInteractive('df-6a1d1654-7c69-40b7-84ee-aeba20041b61')\"\n",
              "            title=\"Convert this dataframe to an interactive table.\"\n",
              "            style=\"display:none;\">\n",
              "\n",
              "  <svg xmlns=\"http://www.w3.org/2000/svg\" height=\"24px\" viewBox=\"0 -960 960 960\">\n",
              "    <path d=\"M120-120v-720h720v720H120Zm60-500h600v-160H180v160Zm220 220h160v-160H400v160Zm0 220h160v-160H400v160ZM180-400h160v-160H180v160Zm440 0h160v-160H620v160ZM180-180h160v-160H180v160Zm440 0h160v-160H620v160Z\"/>\n",
              "  </svg>\n",
              "    </button>\n",
              "\n",
              "  <style>\n",
              "    .colab-df-container {\n",
              "      display:flex;\n",
              "      gap: 12px;\n",
              "    }\n",
              "\n",
              "    .colab-df-convert {\n",
              "      background-color: #E8F0FE;\n",
              "      border: none;\n",
              "      border-radius: 50%;\n",
              "      cursor: pointer;\n",
              "      display: none;\n",
              "      fill: #1967D2;\n",
              "      height: 32px;\n",
              "      padding: 0 0 0 0;\n",
              "      width: 32px;\n",
              "    }\n",
              "\n",
              "    .colab-df-convert:hover {\n",
              "      background-color: #E2EBFA;\n",
              "      box-shadow: 0px 1px 2px rgba(60, 64, 67, 0.3), 0px 1px 3px 1px rgba(60, 64, 67, 0.15);\n",
              "      fill: #174EA6;\n",
              "    }\n",
              "\n",
              "    .colab-df-buttons div {\n",
              "      margin-bottom: 4px;\n",
              "    }\n",
              "\n",
              "    [theme=dark] .colab-df-convert {\n",
              "      background-color: #3B4455;\n",
              "      fill: #D2E3FC;\n",
              "    }\n",
              "\n",
              "    [theme=dark] .colab-df-convert:hover {\n",
              "      background-color: #434B5C;\n",
              "      box-shadow: 0px 1px 3px 1px rgba(0, 0, 0, 0.15);\n",
              "      filter: drop-shadow(0px 1px 2px rgba(0, 0, 0, 0.3));\n",
              "      fill: #FFFFFF;\n",
              "    }\n",
              "  </style>\n",
              "\n",
              "    <script>\n",
              "      const buttonEl =\n",
              "        document.querySelector('#df-6a1d1654-7c69-40b7-84ee-aeba20041b61 button.colab-df-convert');\n",
              "      buttonEl.style.display =\n",
              "        google.colab.kernel.accessAllowed ? 'block' : 'none';\n",
              "\n",
              "      async function convertToInteractive(key) {\n",
              "        const element = document.querySelector('#df-6a1d1654-7c69-40b7-84ee-aeba20041b61');\n",
              "        const dataTable =\n",
              "          await google.colab.kernel.invokeFunction('convertToInteractive',\n",
              "                                                    [key], {});\n",
              "        if (!dataTable) return;\n",
              "\n",
              "        const docLinkHtml = 'Like what you see? Visit the ' +\n",
              "          '<a target=\"_blank\" href=https://colab.research.google.com/notebooks/data_table.ipynb>data table notebook</a>'\n",
              "          + ' to learn more about interactive tables.';\n",
              "        element.innerHTML = '';\n",
              "        dataTable['output_type'] = 'display_data';\n",
              "        await google.colab.output.renderOutput(dataTable, element);\n",
              "        const docLink = document.createElement('div');\n",
              "        docLink.innerHTML = docLinkHtml;\n",
              "        element.appendChild(docLink);\n",
              "      }\n",
              "    </script>\n",
              "  </div>\n",
              "\n",
              "\n",
              "<div id=\"df-cc90aa05-2067-4907-bf2a-759295f8a392\">\n",
              "  <button class=\"colab-df-quickchart\" onclick=\"quickchart('df-cc90aa05-2067-4907-bf2a-759295f8a392')\"\n",
              "            title=\"Suggest charts\"\n",
              "            style=\"display:none;\">\n",
              "\n",
              "<svg xmlns=\"http://www.w3.org/2000/svg\" height=\"24px\"viewBox=\"0 0 24 24\"\n",
              "     width=\"24px\">\n",
              "    <g>\n",
              "        <path d=\"M19 3H5c-1.1 0-2 .9-2 2v14c0 1.1.9 2 2 2h14c1.1 0 2-.9 2-2V5c0-1.1-.9-2-2-2zM9 17H7v-7h2v7zm4 0h-2V7h2v10zm4 0h-2v-4h2v4z\"/>\n",
              "    </g>\n",
              "</svg>\n",
              "  </button>\n",
              "\n",
              "<style>\n",
              "  .colab-df-quickchart {\n",
              "      --bg-color: #E8F0FE;\n",
              "      --fill-color: #1967D2;\n",
              "      --hover-bg-color: #E2EBFA;\n",
              "      --hover-fill-color: #174EA6;\n",
              "      --disabled-fill-color: #AAA;\n",
              "      --disabled-bg-color: #DDD;\n",
              "  }\n",
              "\n",
              "  [theme=dark] .colab-df-quickchart {\n",
              "      --bg-color: #3B4455;\n",
              "      --fill-color: #D2E3FC;\n",
              "      --hover-bg-color: #434B5C;\n",
              "      --hover-fill-color: #FFFFFF;\n",
              "      --disabled-bg-color: #3B4455;\n",
              "      --disabled-fill-color: #666;\n",
              "  }\n",
              "\n",
              "  .colab-df-quickchart {\n",
              "    background-color: var(--bg-color);\n",
              "    border: none;\n",
              "    border-radius: 50%;\n",
              "    cursor: pointer;\n",
              "    display: none;\n",
              "    fill: var(--fill-color);\n",
              "    height: 32px;\n",
              "    padding: 0;\n",
              "    width: 32px;\n",
              "  }\n",
              "\n",
              "  .colab-df-quickchart:hover {\n",
              "    background-color: var(--hover-bg-color);\n",
              "    box-shadow: 0 1px 2px rgba(60, 64, 67, 0.3), 0 1px 3px 1px rgba(60, 64, 67, 0.15);\n",
              "    fill: var(--button-hover-fill-color);\n",
              "  }\n",
              "\n",
              "  .colab-df-quickchart-complete:disabled,\n",
              "  .colab-df-quickchart-complete:disabled:hover {\n",
              "    background-color: var(--disabled-bg-color);\n",
              "    fill: var(--disabled-fill-color);\n",
              "    box-shadow: none;\n",
              "  }\n",
              "\n",
              "  .colab-df-spinner {\n",
              "    border: 2px solid var(--fill-color);\n",
              "    border-color: transparent;\n",
              "    border-bottom-color: var(--fill-color);\n",
              "    animation:\n",
              "      spin 1s steps(1) infinite;\n",
              "  }\n",
              "\n",
              "  @keyframes spin {\n",
              "    0% {\n",
              "      border-color: transparent;\n",
              "      border-bottom-color: var(--fill-color);\n",
              "      border-left-color: var(--fill-color);\n",
              "    }\n",
              "    20% {\n",
              "      border-color: transparent;\n",
              "      border-left-color: var(--fill-color);\n",
              "      border-top-color: var(--fill-color);\n",
              "    }\n",
              "    30% {\n",
              "      border-color: transparent;\n",
              "      border-left-color: var(--fill-color);\n",
              "      border-top-color: var(--fill-color);\n",
              "      border-right-color: var(--fill-color);\n",
              "    }\n",
              "    40% {\n",
              "      border-color: transparent;\n",
              "      border-right-color: var(--fill-color);\n",
              "      border-top-color: var(--fill-color);\n",
              "    }\n",
              "    60% {\n",
              "      border-color: transparent;\n",
              "      border-right-color: var(--fill-color);\n",
              "    }\n",
              "    80% {\n",
              "      border-color: transparent;\n",
              "      border-right-color: var(--fill-color);\n",
              "      border-bottom-color: var(--fill-color);\n",
              "    }\n",
              "    90% {\n",
              "      border-color: transparent;\n",
              "      border-bottom-color: var(--fill-color);\n",
              "    }\n",
              "  }\n",
              "</style>\n",
              "\n",
              "  <script>\n",
              "    async function quickchart(key) {\n",
              "      const quickchartButtonEl =\n",
              "        document.querySelector('#' + key + ' button');\n",
              "      quickchartButtonEl.disabled = true;  // To prevent multiple clicks.\n",
              "      quickchartButtonEl.classList.add('colab-df-spinner');\n",
              "      try {\n",
              "        const charts = await google.colab.kernel.invokeFunction(\n",
              "            'suggestCharts', [key], {});\n",
              "      } catch (error) {\n",
              "        console.error('Error during call to suggestCharts:', error);\n",
              "      }\n",
              "      quickchartButtonEl.classList.remove('colab-df-spinner');\n",
              "      quickchartButtonEl.classList.add('colab-df-quickchart-complete');\n",
              "    }\n",
              "    (() => {\n",
              "      let quickchartButtonEl =\n",
              "        document.querySelector('#df-cc90aa05-2067-4907-bf2a-759295f8a392 button');\n",
              "      quickchartButtonEl.style.display =\n",
              "        google.colab.kernel.accessAllowed ? 'block' : 'none';\n",
              "    })();\n",
              "  </script>\n",
              "</div>\n",
              "\n",
              "    </div>\n",
              "  </div>\n"
            ]
          },
          "metadata": {},
          "execution_count": 119
        }
      ]
    },
    {
      "cell_type": "code",
      "source": [
        "X = df.drop(columns = ['Volume'])\n",
        "y = pd.DataFrame(df['Adj Close'])"
      ],
      "metadata": {
        "id": "Z204b_QrHjzf"
      },
      "execution_count": 120,
      "outputs": []
    },
    {
      "cell_type": "code",
      "source": [
        "def norm_data(data, flag = True):\n",
        "\n",
        "  mm = MinMaxScaler()\n",
        "  ss = StandardScaler()\n",
        "\n",
        "  # flag가 True이면 train\n",
        "  if flag:\n",
        "    X_ss = ss.fit_transform(data)\n",
        "\n",
        "    X_train = X_ss[:300, :]\n",
        "    X_test = X_ss[300:, :]\n",
        "\n",
        "    return X_train, X_test, ss\n",
        "\n",
        "  if not flag:\n",
        "    y_mm = mm.fit_transform(data)\n",
        "\n",
        "    y_train = y_mm[:300, :]\n",
        "    y_test = y_mm[300:, :]\n",
        "\n",
        "    return y_train, y_test, mm\n",
        "\n",
        "X_train, X_test, ss = norm_data(X, flag = True)\n",
        "y_train, y_test, mm = norm_data(y, flag = False)\n",
        "\n",
        "X_train.shape, y_train.shape, X_test.shape, y_test.shape"
      ],
      "metadata": {
        "colab": {
          "base_uri": "https://localhost:8080/"
        },
        "id": "B23qh7RfJdh2",
        "outputId": "cae9decc-c9a4-4511-9ed5-8e421f5a23bc"
      },
      "execution_count": 121,
      "outputs": [
        {
          "output_type": "execute_result",
          "data": {
            "text/plain": [
              "((300, 5), (300, 1), (63, 5), (63, 1))"
            ]
          },
          "metadata": {},
          "execution_count": 121
        }
      ]
    },
    {
      "cell_type": "code",
      "source": [
        "mm, ss"
      ],
      "metadata": {
        "colab": {
          "base_uri": "https://localhost:8080/"
        },
        "id": "UdjGTnzVXni6",
        "outputId": "358d1b5e-5bfd-4ccb-b3fb-d74ec1c17fec"
      },
      "execution_count": 122,
      "outputs": [
        {
          "output_type": "execute_result",
          "data": {
            "text/plain": [
              "(MinMaxScaler(), StandardScaler())"
            ]
          },
          "metadata": {},
          "execution_count": 122
        }
      ]
    },
    {
      "cell_type": "code",
      "source": [
        "# == numpy 상태에서는 학습이 불가능하다 ==\n",
        "type(X_train)"
      ],
      "metadata": {
        "colab": {
          "base_uri": "https://localhost:8080/"
        },
        "id": "aw4aK6ByLj9j",
        "outputId": "b9252f91-72bd-4f0f-8f0a-5b72143282fd"
      },
      "execution_count": 123,
      "outputs": [
        {
          "output_type": "execute_result",
          "data": {
            "text/plain": [
              "numpy.ndarray"
            ]
          },
          "metadata": {},
          "execution_count": 123
        }
      ]
    },
    {
      "cell_type": "code",
      "source": [
        "# == numpy -> Torch로 바꿔주기\n",
        "'''\n",
        "시계열 데이터를 다룰 때, 3D tensor형태 (batch_size, sequence_length, input_size)로 사용한다.\n",
        "'''\n",
        "\n",
        "X_train_tensors = torch.Tensor(X_train)\n",
        "X_test_tensors = torch.Tensor(X_test)\n",
        "\n",
        "y_train_tensors = torch.Tensor(y_train)\n",
        "y_test_tensors = torch.Tensor(y_test)\n",
        "\n",
        "X_train_tensors_final = torch.reshape(X_train_tensors, (X_train_tensors.shape[0], 1, X_train_tensors.shape[1]))\n",
        "X_test_tensors_final = torch.reshape(X_test_tensors, (X_test_tensors.shape[0], 1, X_test_tensors.shape[1]))\n",
        "\n",
        "X_train_tensors_final.shape, y_train.shape\n"
      ],
      "metadata": {
        "colab": {
          "base_uri": "https://localhost:8080/"
        },
        "id": "tbSibHQQL2eq",
        "outputId": "deb1b90c-8095-4d1c-fd92-8699ebd2b64a"
      },
      "execution_count": 124,
      "outputs": [
        {
          "output_type": "execute_result",
          "data": {
            "text/plain": [
              "(torch.Size([300, 1, 5]), (300, 1))"
            ]
          },
          "metadata": {},
          "execution_count": 124
        }
      ]
    },
    {
      "cell_type": "markdown",
      "source": [
        "### LSTM 모델"
      ],
      "metadata": {
        "id": "TotFzNXyOXBP"
      }
    },
    {
      "cell_type": "code",
      "source": [
        "class custom_LSTM(nn.Module):\n",
        "  def __init__(self, num_classes, input_size, hidden_size, num_layers, seq_length):\n",
        "    super(custom_LSTM, self).__init__()\n",
        "\n",
        "    self.num_classes = num_classes\n",
        "    self.input_size = input_size\n",
        "    self.hidden_size = hidden_size\n",
        "    self.num_layers = num_layers\n",
        "    self.seq_length = seq_length\n",
        "\n",
        "    self.lstm = nn.LSTM(input_size = input_size, hidden_size = hidden_size, num_layers = 1,\n",
        "                        batch_first = True)\n",
        "\n",
        "    self.fc1 = nn.Linear(hidden_size, 128)\n",
        "    self.fc2 = nn.Linear(128, num_classes)\n",
        "\n",
        "    self.relu = nn.ReLU(inplace = True)\n",
        "\n",
        "  def forward(self, x):\n",
        "\n",
        "    '''\n",
        "    self.num_layers : LSTM layer의 수\n",
        "    x.size(0) : x의 batch size\n",
        "\n",
        "    0으로 초기화하는 이유는, 학습을 시작할 때 아무 정보가 없는 상태에서 시작하기 위함이다.\n",
        "    이를 통해 장기 의존 관계를 학습하고 기억할 수 있다.\n",
        "    '''\n",
        "    h0 = torch.zeros(self.num_layers, x.size(0), self.hidden_size).to(device) # hidden state\n",
        "    c0 = torch.zeros(self.num_layers, x.size(0), self.hidden_size).to(device) # cell state\n",
        "\n",
        "    output, (hn, cn) = self.lstm(x, (h0, c0))\n",
        "\n",
        "    hn = hn.view(-1, self.hidden_size)\n",
        "    out = self.relu(hn)\n",
        "    out = self.fc1(out)\n",
        "    out = self.relu(out)\n",
        "    out = self.fc2(out)\n",
        "    return out"
      ],
      "metadata": {
        "id": "1DL-vV4zNwjK"
      },
      "execution_count": 125,
      "outputs": []
    },
    {
      "cell_type": "code",
      "source": [
        "num_epochs = 3000\n",
        "learning_rate = 0.0001 #0.001 lr\n",
        "input_size = 5\n",
        "hidden_size = 2\n",
        "num_layers = 1\n",
        "num_classes = 1"
      ],
      "metadata": {
        "id": "VW0RDwbpQho7"
      },
      "execution_count": 126,
      "outputs": []
    },
    {
      "cell_type": "code",
      "source": [
        "X_train_tensors_final.shape[1]"
      ],
      "metadata": {
        "colab": {
          "base_uri": "https://localhost:8080/"
        },
        "id": "NSoVwyT1R9ut",
        "outputId": "d96f36cb-ce22-43d1-bf04-819d7e6b85bd"
      },
      "execution_count": 127,
      "outputs": [
        {
          "output_type": "execute_result",
          "data": {
            "text/plain": [
              "1"
            ]
          },
          "metadata": {},
          "execution_count": 127
        }
      ]
    },
    {
      "cell_type": "code",
      "source": [
        "lstm_fr = custom_LSTM(num_classes, input_size, hidden_size, num_layers, X_train_tensors_final.shape[1]).to(device)\n",
        "\n",
        "cost = torch.nn.MSELoss()\n",
        "opt = torch.optim.Adam(lstm_fr.parameters(), lr = learning_rate)"
      ],
      "metadata": {
        "id": "oaJg6U73Ro0C"
      },
      "execution_count": 128,
      "outputs": []
    },
    {
      "cell_type": "markdown",
      "source": [
        "### 학습하기"
      ],
      "metadata": {
        "id": "FxYXKDWYSURi"
      }
    },
    {
      "cell_type": "code",
      "source": [
        "for epoch in range(num_epochs):\n",
        "  outputs = lstm_fr.forward(X_train_tensors_final.to(device))\n",
        "  opt.zero_grad()\n",
        "\n",
        "  loss = cost(outputs, y_train_tensors.to(device))\n",
        "  loss.backward()\n",
        "  opt.step()\n",
        "\n",
        "  if epoch % 100 == 0:\n",
        "    print(f\"Epoch : {epoch}, loss : {loss.item()}\")\n",
        ""
      ],
      "metadata": {
        "colab": {
          "base_uri": "https://localhost:8080/"
        },
        "id": "g6rUfS_uSTC9",
        "outputId": "58691a84-c5d0-47ce-d09b-814b51b1dd65"
      },
      "execution_count": 129,
      "outputs": [
        {
          "output_type": "stream",
          "name": "stdout",
          "text": [
            "Epoch : 0, loss : 0.14740152657032013\n",
            "Epoch : 100, loss : 0.07510148733854294\n",
            "Epoch : 200, loss : 0.06425787508487701\n",
            "Epoch : 300, loss : 0.06205159053206444\n",
            "Epoch : 400, loss : 0.0584854856133461\n",
            "Epoch : 500, loss : 0.05135652422904968\n",
            "Epoch : 600, loss : 0.03810054808855057\n",
            "Epoch : 700, loss : 0.022925738245248795\n",
            "Epoch : 800, loss : 0.011923333629965782\n",
            "Epoch : 900, loss : 0.006129418965429068\n",
            "Epoch : 1000, loss : 0.003172711469233036\n",
            "Epoch : 1100, loss : 0.0018314153421670198\n",
            "Epoch : 1200, loss : 0.0012391798663884401\n",
            "Epoch : 1300, loss : 0.000978441908955574\n",
            "Epoch : 1400, loss : 0.0008606928749941289\n",
            "Epoch : 1500, loss : 0.0008003941620700061\n",
            "Epoch : 1600, loss : 0.0007627111044712365\n",
            "Epoch : 1700, loss : 0.0007339376606978476\n",
            "Epoch : 1800, loss : 0.0007088208221830428\n",
            "Epoch : 1900, loss : 0.0006853558588773012\n",
            "Epoch : 2000, loss : 0.0006628355477005243\n",
            "Epoch : 2100, loss : 0.0006411259528249502\n",
            "Epoch : 2200, loss : 0.0006202492513693869\n",
            "Epoch : 2300, loss : 0.0006002260488457978\n",
            "Epoch : 2400, loss : 0.0005796097684651613\n",
            "Epoch : 2500, loss : 0.0005539213889278471\n",
            "Epoch : 2600, loss : 0.0005344741512089968\n",
            "Epoch : 2700, loss : 0.0005165864713490009\n",
            "Epoch : 2800, loss : 0.0004996563075110316\n",
            "Epoch : 2900, loss : 0.0004832593840546906\n"
          ]
        }
      ]
    },
    {
      "cell_type": "markdown",
      "source": [
        "### 예측 하기\n"
      ],
      "metadata": {
        "id": "MbRxboaNTEmS"
      }
    },
    {
      "cell_type": "code",
      "source": [
        "train = ss.transform(df.drop(columns='Volume'))\n",
        "label = mm.transform(pd.DataFrame(df['Adj Close']))\n",
        "\n",
        "train = Variable(torch.Tensor(train))\n",
        "label = Variable(torch.Tensor(label))\n",
        "train = torch.reshape(train, (train.shape[0], 1, train.shape[1]))"
      ],
      "metadata": {
        "id": "NSCQj6mQUaGD"
      },
      "execution_count": 130,
      "outputs": []
    },
    {
      "cell_type": "code",
      "source": [
        "train_predict = lstm_fr(train.to(device))\n",
        "data_predict = train_predict.data.detach().cpu().numpy()\n",
        "dataY_plot = label.data.numpy()\n",
        "\n",
        "data_predict = mm.inverse_transform(data_predict)\n",
        "dataY_plot = mm.inverse_transform(dataY_plot)\n",
        "plt.figure(figsize=(10,6))\n",
        "plt.axvline(x=300, c='r', linestyle='--')\n",
        "\n",
        "plt.plot(dataY_plot, label='Actuall Data')\n",
        "plt.plot(data_predict, label='Predicted Data')\n",
        "plt.title('Time-Series Prediction')\n",
        "\n",
        "plt.legend()\n",
        "plt.show()"
      ],
      "metadata": {
        "colab": {
          "base_uri": "https://localhost:8080/",
          "height": 545
        },
        "id": "aRq7A5Y-Wr2t",
        "outputId": "3da6c10d-3f70-4c07-dc0d-7dc4f8095e16"
      },
      "execution_count": 131,
      "outputs": [
        {
          "output_type": "display_data",
          "data": {
            "text/plain": [
              "<Figure size 1000x600 with 1 Axes>"
            ],
            "image/png": "[encoded data removed]"
          },
          "metadata": {}
        }
      ]
    }
  ]
}