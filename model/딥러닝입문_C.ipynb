{
  "nbformat": 4,
  "nbformat_minor": 0,
  "metadata": {
    "colab": {
      "provenance": []
    },
    "kernelspec": {
      "name": "python3",
      "display_name": "Python 3"
    },
    "language_info": {
      "name": "python"
    }
  },
  "cells": [
    {
      "cell_type": "code",
      "execution_count": null,
      "metadata": {
        "id": "pghn81zucbxg"
      },
      "outputs": [],
      "source": [
        "import torch\n",
        "import torchvision.datasets as dsets\n",
        "import torchvision.transforms as transforms\n",
        "import torch.nn.functional as F\n",
        "import torchsummary\n",
        "import torch.nn as nn\n",
        "\n",
        "from torch.nn.modules.normalization import LocalResponseNorm\n",
        "from torch.utils.data import random_split\n",
        "from torch import optim\n",
        "from sklearn.metrics import confusion_matrix # 오차행렬을 통해서 recall, precision, f1-score 구하기"
      ]
    },
    {
      "cell_type": "code",
      "source": [
        "import seaborn as sns\n",
        "import numpy as np\n",
        "import matplotlib.pyplot as plt\n",
        "%matplotlib inline"
      ],
      "metadata": {
        "id": "oDoc6yK4eyHV"
      },
      "execution_count": null,
      "outputs": []
    },
    {
      "cell_type": "code",
      "source": [
        "# Device와 seed값 설정\n",
        "\n",
        "device = 'cuda' if torch.cuda.is_available() else 'cpu'\n",
        "\n",
        "torch.manual_seed(0)\n",
        "\n",
        "if device == 'cuda':\n",
        "  torch.cuda.manual_seed(0)\n",
        "\n",
        "print('Device : ',device)"
      ],
      "metadata": {
        "colab": {
          "base_uri": "https://localhost:8080/"
        },
        "id": "7WtvTYXpdHgE",
        "outputId": "0866479e-99b7-4672-cbe3-8f78d4530e01"
      },
      "execution_count": null,
      "outputs": [
        {
          "output_type": "stream",
          "name": "stdout",
          "text": [
            "Device :  cuda\n"
          ]
        }
      ]
    },
    {
      "cell_type": "code",
      "source": [
        "# == Cifar10 데이터 얻기 ==\n",
        "def get_data(flag = True):\n",
        "    train = dsets.CIFAR10(root = '/data',\n",
        "                          train = True,\n",
        "                          download = True)\n",
        "    test = dsets.CIFAR10(root = '/data',\n",
        "                        train = False,\n",
        "                        download = True)\n",
        "    return train, test"
      ],
      "metadata": {
        "id": "XWmAzflFdn39"
      },
      "execution_count": null,
      "outputs": []
    },
    {
      "cell_type": "markdown",
      "source": [
        "## Train, Test 이미지들 확인\n",
        "\n"
      ],
      "metadata": {
        "id": "_-coF-OZFHF1"
      }
    },
    {
      "cell_type": "code",
      "source": [
        "train, test = get_data()"
      ],
      "metadata": {
        "colab": {
          "base_uri": "https://localhost:8080/"
        },
        "id": "v_Y31NINLr2K",
        "outputId": "7e6b0f79-ff48-469b-cea8-baf34f8e39bb"
      },
      "execution_count": null,
      "outputs": [
        {
          "output_type": "stream",
          "name": "stdout",
          "text": [
            "Downloading https://www.cs.toronto.edu/~kriz/cifar-10-python.tar.gz to /data/cifar-10-python.tar.gz\n"
          ]
        },
        {
          "output_type": "stream",
          "name": "stderr",
          "text": [
            "100%|██████████| 170498071/170498071 [00:03<00:00, 42880501.62it/s]\n"
          ]
        },
        {
          "output_type": "stream",
          "name": "stdout",
          "text": [
            "Extracting /data/cifar-10-python.tar.gz to /data\n",
            "Files already downloaded and verified\n"
          ]
        }
      ]
    },
    {
      "cell_type": "code",
      "source": [
        "# Cifar10 이미지 확인\n",
        "\n",
        "# == train에 대한 label 뽑기 ==\n",
        "train_labels_dict = train.class_to_idx\n",
        "train_labels_dict = dict(zip(train_labels_dict.values(), train_labels_dict.keys()))\n",
        "\n",
        "# == 10개의 train 봐보기 ==\n",
        "train_images, train_labels = train.data[:10], train.targets[:10]\n",
        "\n",
        "# == img들 볼 수 있는 함수 ==\n",
        "def show_img(img, label, count = 10, flag = True):\n",
        "  figure, axs = plt.subplots(figsize = (22, 6), nrows = 1, ncols = count)\n",
        "\n",
        "  for i in range(count):\n",
        "    axs[i].imshow(img[i])\n",
        "\n",
        "    # == Train ==\n",
        "    if flag == True:\n",
        "      axs[i].set_title(f\"Label : {train_labels[i]}\\n {train_labels_dict[train_labels[i]]}\")\n",
        "\n",
        "    # == Test ==\n",
        "    elif flag == False:\n",
        "      axs[i].set_title(f\"Label : {test_labels[i]}\\n {test_labels_dict[test_labels[i]]}\")\n",
        "\n",
        "    axs[i].axis('off')\n",
        "\n",
        "# == train 이미지 확인==\n",
        "show_img(train_images,train_labels, count = 10, flag = True)"
      ],
      "metadata": {
        "colab": {
          "base_uri": "https://localhost:8080/",
          "height": 130
        },
        "id": "x9Ju6VuvglY7",
        "outputId": "9bc5c25b-9d52-43b8-997e-0eefae6b466c"
      },
      "execution_count": null,
      "outputs": [
        {
          "output_type": "display_data",
          "data": {
            "text/plain": [
              "<Figure size 2200x600 with 10 Axes>"
            ],
            "image/png": "[encoded data removed]"
          },
          "metadata": {}
        }
      ]
    },
    {
      "cell_type": "code",
      "source": [
        "# Cifar 10 이미지 확인\n",
        "\n",
        "# == test에 대한 label 뽑기 ==\n",
        "test_labels_dict = test.class_to_idx\n",
        "test_labels_dict = dict(zip(test_labels_dict.values(), test_labels_dict.keys()))\n",
        "\n",
        "# == 10개의 test 봐보기 ==\n",
        "test_images, test_labels = test.data[:10], test.targets[:10]\n",
        "\n",
        "# == test 이미지 확인 ==\n",
        "show_img(test_images, test_labels, count = 10, flag = False)\n"
      ],
      "metadata": {
        "colab": {
          "base_uri": "https://localhost:8080/",
          "height": 130
        },
        "id": "i4ipCJV6_ZLp",
        "outputId": "93c1ee38-353e-4d6f-ab43-15d978ce8066"
      },
      "execution_count": null,
      "outputs": [
        {
          "output_type": "display_data",
          "data": {
            "text/plain": [
              "<Figure size 2200x600 with 10 Axes>"
            ],
            "image/png": "[encoded data removed]"
          },
          "metadata": {}
        }
      ]
    },
    {
      "cell_type": "markdown",
      "source": [
        "# 데이터 전처리"
      ],
      "metadata": {
        "id": "XiE2JG2RFOMh"
      }
    },
    {
      "cell_type": "code",
      "source": [
        "train, test = get_data()\n",
        "\n",
        "train.transform = transforms.ToTensor()\n",
        "test.transform = transforms.ToTensor()"
      ],
      "metadata": {
        "colab": {
          "base_uri": "https://localhost:8080/"
        },
        "id": "v4rOXy3wSwTN",
        "outputId": "f4bfaa8c-946b-4833-8457-aac2ae46aeda"
      },
      "execution_count": null,
      "outputs": [
        {
          "output_type": "stream",
          "name": "stdout",
          "text": [
            "Files already downloaded and verified\n",
            "Files already downloaded and verified\n"
          ]
        }
      ]
    },
    {
      "cell_type": "code",
      "source": [
        "# == 이미지의 전처리 작업으로 Image의 각 channel의 평균값을 빼주었다고 한다. ==\n",
        "\n",
        "# == 이미지 전처리 ==\n",
        "\n",
        "# == Train ==\n",
        "\n",
        "meanRGB_train = [np.mean(x.numpy(), axis = (1, 2)) for x, _ in train] # criterion by row, column --> become RGB mean\n",
        "stdRGB_train = [np.std(x.numpy(), axis = (1, 2)) for x, _ in train]\n",
        "\n",
        "meanRGB_test = [np.mean(x.numpy(), axis = (1, 2)) for x, _ in test] # criterion by row, column --> become RGB mean\n",
        "stdRGB_test = [np.std(x.numpy(), axis = (1, 2)) for x, _ in test]\n",
        "\n",
        "meanR_train = np.mean([m[0] for m in meanRGB_train])\n",
        "meanG_train = np.mean([m[1] for m in meanRGB_train])\n",
        "meanB_train = np.mean([m[2] for m in meanRGB_train])\n",
        "\n",
        "stdR_train = np.mean([s[0] for s in stdRGB_train])\n",
        "stdG_train = np.mean([s[1] for s in stdRGB_train])\n",
        "stdB_train = np.mean([s[2] for s in stdRGB_train])\n",
        "\n",
        "mean_train = [meanR_train, meanG_train, meanB_train]\n",
        "std_train = [stdR_train, stdG_train, stdB_train]\n",
        "\n",
        "# == Test ==\n",
        "meanR_test = np.mean([m[0] for m in meanRGB_test])\n",
        "meanG_test = np.mean([m[1] for m in meanRGB_test])\n",
        "meanB_test = np.mean([m[2] for m in meanRGB_test])\n",
        "\n",
        "stdR_test = np.mean([s[0] for s in stdRGB_test])\n",
        "stdG_test = np.mean([s[1] for s in stdRGB_test])\n",
        "stdB_test = np.mean([s[2] for s in stdRGB_test])\n",
        "\n",
        "mean_test = [meanR_test, meanG_test, meanB_test]\n",
        "std_test = [stdR_test, stdG_test, stdB_test]\n",
        "\n",
        "print(' == == == == Train == == == ==')\n",
        "print('각 Channel당 pixel Mean 값 : ', mean_train)\n",
        "print('각 Channel당 pixel Std 값 : ', std_train)\n",
        "print(' == == == == == == == == == ==')\n",
        "\n",
        "print(' == == == == Test == == == ==')\n",
        "print('각 Channel당 pixel Mean 값 : ', mean_test)\n",
        "print('각 Channel당 pixel Std 값 : ', std_test)\n",
        "print(' == == == == == == == == == ==')"
      ],
      "metadata": {
        "colab": {
          "base_uri": "https://localhost:8080/"
        },
        "id": "ViGFc8kbFL_K",
        "outputId": "e95ab889-15ac-44b3-e696-40b836262599"
      },
      "execution_count": null,
      "outputs": [
        {
          "output_type": "stream",
          "name": "stdout",
          "text": [
            " == == == == Train == == == ==\n",
            "각 Channel당 pixel Mean 값 :  [0.49139965, 0.48215845, 0.4465309]\n",
            "각 Channel당 pixel Std 값 :  [0.20220213, 0.19931543, 0.20086348]\n",
            " == == == == == == == == == ==\n",
            " == == == == Test == == == ==\n",
            "각 Channel당 pixel Mean 값 :  [0.49421427, 0.48513138, 0.45040908]\n",
            "각 Channel당 pixel Std 값 :  [0.20189482, 0.19902097, 0.20103233]\n",
            " == == == == == == == == == ==\n"
          ]
        }
      ]
    },
    {
      "cell_type": "code",
      "source": [
        "'''\n",
        "== train loader & augmentation ==\n",
        "1. cifar10의 size는 32x32이기 때문에 256x256으로 resize를 해주는 것이 아닌 28x28로 resize\n",
        "2. Random crop : 무작위로 자르는 데 사용\n",
        "3. Translation : 각도는 변하지 않고, 수평,수직 방향으로 최대 10%로 이동할 수 있게끔 한다.\n",
        "4. Horizontal flip : 50%로 수평변환\n",
        "5. Normalization : mean값 각 channel의 평균값을 빼주기, std에 대한 이야기는 없었음\n",
        "6. PCA가 있긴함.\n",
        "\n",
        "== test loader &  ==\n",
        "1. 28x28로 resize\n",
        "2. Normalization\n",
        "'''\n",
        "train_loader = transforms.Compose([\n",
        "    transforms.ToTensor(),\n",
        "    transforms.Resize((256)),\n",
        "    transforms.CenterCrop((227)),\n",
        "    transforms.RandomAffine(degrees = 0, translate = (0.1, 0.1)),\n",
        "    transforms.RandomHorizontalFlip(p = 0.5),\n",
        "    transforms.Normalize(mean_train, std_train)\n",
        "\n",
        "])\n",
        "\n",
        "test_loader = transforms.Compose([\n",
        "    transforms.ToTensor(),\n",
        "    transforms.Resize((227)),\n",
        "    transforms.Normalize(mean_test, std_test)\n",
        "])\n",
        "train.transform = train_loader\n",
        "test.transform = test_loader"
      ],
      "metadata": {
        "id": "WRfID7edgCeX"
      },
      "execution_count": null,
      "outputs": []
    },
    {
      "cell_type": "markdown",
      "source": [
        "# 모델 설계"
      ],
      "metadata": {
        "id": "MF65F7Iqij9c"
      }
    },
    {
      "cell_type": "code",
      "source": [
        "class Alex(nn.Module):\n",
        "  def __init__(self):\n",
        "    super(Alex, self).__init__()\n",
        "\n",
        "    # input size : 3 * 227 * 227\n",
        "\n",
        "    # Conv Layer\n",
        "    self.conv = nn.Sequential(\n",
        "\n",
        "        # Layer 1\n",
        "        nn.Conv2d(in_channels = 3, out_channels = 96, kernel_size = 11, stride = 4, padding = 0),\n",
        "        nn.BatchNorm2d(96),\n",
        "        nn.ReLU(),\n",
        "        # nn.LocalResponseNorm(size = 5, alpha = 0.0001, beta = 0.75, k = 2),\n",
        "        nn.MaxPool2d(kernel_size = 3, stride = 2),\n",
        "\n",
        "        # Layer 2\n",
        "        nn.Conv2d(96, 256, kernel_size=5, stride=1, padding=2), # (b x 256 x 27 x 27)  !!!!!!!!!!!!!!!![4]\n",
        "        nn.BatchNorm2d(256),\n",
        "        nn.ReLU(),\n",
        "        # nn.LocalResponseNorm(size=5, alpha=0.0001, beta=0.75, k=2),\n",
        "        nn.MaxPool2d(kernel_size=3, stride=2),\n",
        "\n",
        "        # Layer 3\n",
        "        nn.Conv2d(256, 256, 3, 1, 1, groups = 256),# [8]\n",
        "        nn.BatchNorm2d(256),\n",
        "        nn.ReLU(),\n",
        "        nn.Conv2d(256, 384, 3, 1, 1),# [11]\n",
        "        nn.ReLU(),\n",
        "\n",
        "        # Layer 4\n",
        "        # nn.Conv2d(384, 384, 3, 1, 1),\n",
        "        nn.Conv2d(384, 384, 3, 1, 1, groups = 384), # depth wise conv # [13]\n",
        "        nn.ReLU(),\n",
        "\n",
        "        # Layer 5\n",
        "        nn.Conv2d(384, 256, 3, 1, 1), # [15]\n",
        "        nn.ReLU(),\n",
        "        nn.MaxPool2d(3, 2)\n",
        "    )\n",
        "\n",
        "    self.fc = nn.Sequential(\n",
        "\n",
        "        # Fc 1\n",
        "        nn.Linear(256 * 6 * 6, 4096),\n",
        "        nn.ReLU(),\n",
        "        nn.Dropout(p = 0.5),\n",
        "\n",
        "        # Fc 2\n",
        "        nn.Linear(4096, 4096),\n",
        "        nn.ReLU(),\n",
        "        nn.Dropout(p = 0.5),\n",
        "    )\n",
        "    # output layer\n",
        "    self.outlayer = nn.Linear(4096, 10)\n",
        "\n",
        "  # weight initialized\n",
        "  def init_weight(self):\n",
        "      for layer in self.modules():\n",
        "          if isinstance(layer, (nn.Conv2d, nn.Linear)):\n",
        "              nn.init.kaiming_uniform_(layer.weight, mode='fan_in', nonlinearity='relu')\n",
        "      nn.init.xavier_uniform_(self.outlayer.weight)\n",
        "\n",
        "  # model sequence\n",
        "  def forward(self, x):\n",
        "    out = self.conv(x)\n",
        "\n",
        "    # flatten\n",
        "    out = out.view(out.size(0), -1)\n",
        "    out = self.fc(out)\n",
        "\n",
        "    return out"
      ],
      "metadata": {
        "id": "0zy8F9ACikuJ"
      },
      "execution_count": null,
      "outputs": []
    },
    {
      "cell_type": "code",
      "source": [
        "# == 모델 봐보기 ==\n",
        "\n",
        "model = Alex().to(device)\n",
        "\n",
        "model.init_weight()\n",
        "\n",
        "torchsummary.summary(model, input_size = (3, 227, 227), device = 'cuda')"
      ],
      "metadata": {
        "id": "whsyyszqknF9",
        "colab": {
          "base_uri": "https://localhost:8080/"
        },
        "outputId": "891475ea-cbd3-44b8-9919-1cd181553e0f"
      },
      "execution_count": null,
      "outputs": [
        {
          "output_type": "stream",
          "name": "stdout",
          "text": [
            "----------------------------------------------------------------\n",
            "        Layer (type)               Output Shape         Param #\n",
            "================================================================\n",
            "            Conv2d-1           [-1, 96, 55, 55]          34,944\n",
            "       BatchNorm2d-2           [-1, 96, 55, 55]             192\n",
            "              ReLU-3           [-1, 96, 55, 55]               0\n",
            "         MaxPool2d-4           [-1, 96, 27, 27]               0\n",
            "            Conv2d-5          [-1, 256, 27, 27]         614,656\n",
            "       BatchNorm2d-6          [-1, 256, 27, 27]             512\n",
            "              ReLU-7          [-1, 256, 27, 27]               0\n",
            "         MaxPool2d-8          [-1, 256, 13, 13]               0\n",
            "            Conv2d-9          [-1, 256, 13, 13]           2,560\n",
            "      BatchNorm2d-10          [-1, 256, 13, 13]             512\n",
            "             ReLU-11          [-1, 256, 13, 13]               0\n",
            "           Conv2d-12          [-1, 384, 13, 13]         885,120\n",
            "             ReLU-13          [-1, 384, 13, 13]               0\n",
            "           Conv2d-14          [-1, 384, 13, 13]           3,840\n",
            "             ReLU-15          [-1, 384, 13, 13]               0\n",
            "           Conv2d-16          [-1, 256, 13, 13]         884,992\n",
            "             ReLU-17          [-1, 256, 13, 13]               0\n",
            "        MaxPool2d-18            [-1, 256, 6, 6]               0\n",
            "           Linear-19                 [-1, 4096]      37,752,832\n",
            "             ReLU-20                 [-1, 4096]               0\n",
            "          Dropout-21                 [-1, 4096]               0\n",
            "           Linear-22                 [-1, 4096]      16,781,312\n",
            "             ReLU-23                 [-1, 4096]               0\n",
            "          Dropout-24                 [-1, 4096]               0\n",
            "================================================================\n",
            "Total params: 56,961,472\n",
            "Trainable params: 56,961,472\n",
            "Non-trainable params: 0\n",
            "----------------------------------------------------------------\n",
            "Input size (MB): 0.59\n",
            "Forward/backward pass size (MB): 15.67\n",
            "Params size (MB): 217.29\n",
            "Estimated Total Size (MB): 233.55\n",
            "----------------------------------------------------------------\n"
          ]
        }
      ]
    },
    {
      "cell_type": "markdown",
      "source": [
        "# 훈련&검증"
      ],
      "metadata": {
        "id": "lYRbd9UiqKkH"
      }
    },
    {
      "cell_type": "code",
      "source": [
        "# == train : 80%, validation : 20% ==\n",
        "\n",
        "train_ratio = 0.8\n",
        "val_ratio = 0.2\n",
        "\n",
        "train_size = int(len(train) * train_ratio)\n",
        "val_size = len(train) - train_size\n",
        "\n",
        "split_train, split_val = random_split(train, [train_size, val_size])"
      ],
      "metadata": {
        "id": "-t4K6XwVqOy9"
      },
      "execution_count": null,
      "outputs": []
    },
    {
      "cell_type": "code",
      "source": [
        "# == 논문 그대로 설정 ==\n",
        "batch_size = 128\n",
        "learning_rate = 0.01\n",
        "epochs = 10 # for real, epoch = 90\n",
        "momentum = 0.9\n",
        "weight_decay = 0.0005"
      ],
      "metadata": {
        "id": "kr4iLZ-htyJr"
      },
      "execution_count": null,
      "outputs": []
    },
    {
      "cell_type": "code",
      "source": [
        "# == 최적화, 손실함수 ==\n",
        "optimizer = optim.SGD(model.parameters(), lr = learning_rate, momentum = momentum, weight_decay = weight_decay)\n",
        "criterion = nn.CrossEntropyLoss().to(device)"
      ],
      "metadata": {
        "id": "V_Eq_f0wtbZ6"
      },
      "execution_count": null,
      "outputs": []
    },
    {
      "cell_type": "code",
      "source": [
        "train_loader = torch.utils.data.DataLoader(dataset = split_train,\n",
        "                                           batch_size=  batch_size,\n",
        "                                           shuffle = True,\n",
        "                                           drop_last = True)\n",
        "\n",
        "val_loader = torch.utils.data.DataLoader(dataset = split_val,\n",
        "                                        batch_size = batch_size,\n",
        "                                        shuffle = True,\n",
        "                                        drop_last = True)"
      ],
      "metadata": {
        "id": "UosPZRA_twY4"
      },
      "execution_count": null,
      "outputs": []
    },
    {
      "cell_type": "code",
      "source": [
        "total_batch = len(train_loader)\n",
        "\n",
        "print('Weight update 횟수 : ', total_batch)"
      ],
      "metadata": {
        "id": "xZdULgc7t4Es",
        "colab": {
          "base_uri": "https://localhost:8080/"
        },
        "outputId": "54b7cb74-c659-41e5-882e-eb4882240e6e"
      },
      "execution_count": null,
      "outputs": [
        {
          "output_type": "stream",
          "name": "stdout",
          "text": [
            "Weight update 횟수 :  312\n"
          ]
        }
      ]
    },
    {
      "cell_type": "code",
      "source": [
        "# == Confusion Matrix ==\n",
        "y_true = []\n",
        "y_pred = []\n",
        "\n",
        "# == Loss ==\n",
        "train_losses = []\n",
        "validation_losses = []\n",
        "\n",
        "# == Accuracy ==\n",
        "train_accuracy = []\n",
        "validation_accuracy = []\n",
        "\n",
        "# == Weight 저장 ==\n",
        "best_model_path = \"best_weight_AlexNet_first.pth\"\n",
        "best_accuracy = 0.0"
      ],
      "metadata": {
        "id": "J481o6rJO_Th"
      },
      "execution_count": null,
      "outputs": []
    },
    {
      "cell_type": "code",
      "source": [
        "train_losses = []\n",
        "validation_losses = []\n",
        "\n",
        "train_accuracy = []\n",
        "validation_accuracy = []\n",
        "\n",
        "# == 학습 진행 ==\n",
        "for epoch in range(epochs):\n",
        "    # == 모델을 학습 모드로 설정 ==\n",
        "    model.train()\n",
        "    '''\n",
        "    1. for문 1번 반복할때마다 batch_idx는 batch_size만큼 증가\n",
        "     ex) 1 iter: 0 ~ 127\n",
        "         2 iter: 128 ~ 255\n",
        "         전체 훈련 데이터를 다 쓰기전까지 반복.\n",
        "    '''\n",
        "\n",
        "\n",
        "    # train loss 변수\n",
        "    running_train_loss = 0.0\n",
        "\n",
        "    correct_train = 0\n",
        "    total_train = 0\n",
        "\n",
        "    for batch_idx, (data, target) in enumerate(train_loader):\n",
        "        # 데이터와 레이블을 GPU로 이동 (if available)\n",
        "        data, target = data.to(device), target.to(device)\n",
        "\n",
        "        # Forward 연산\n",
        "        output = model(data)\n",
        "\n",
        "        # Confusion Matrix\n",
        "        _, predicted = torch.max(output, 1)\n",
        "        y_true.extend(target.cpu().numpy())\n",
        "        y_pred.extend(predicted.cpu().numpy())\n",
        "\n",
        "        # 손실 계산\n",
        "        loss = criterion(output, target)\n",
        "\n",
        "        # Backward 연산 및 매개변수 업데이트\n",
        "        optimizer.zero_grad() # 미분값 중복 방지\n",
        "        loss.backward() # 오차역전파\n",
        "        optimizer.step() # parameter 업데이트\n",
        "\n",
        "        # train loss 담기\n",
        "        running_train_loss += loss.item()\n",
        "\n",
        "        # 일정 간격으로 손실 출력\n",
        "        if batch_idx % 100 == 0:\n",
        "            #print(len(train_loader)) 항상 312로 동일한 값\n",
        "            print(batch_idx)\n",
        "            print('Epoch {} [{}/{} ({:.0f}%)]\\tLoss: {:.6f}'.format(\n",
        "                epoch + 1, batch_idx * len(data), len(train_loader.dataset),\n",
        "                100. * batch_idx / len(train_loader), loss.item())) # 100.은 실수형을 말한다.(실수형으로 출력하기 위함)\n",
        "                # len(train_loader)는 배치 개수를 나타낸다. 여기서는 312개(312번 가중치 update)\n",
        "\n",
        "        pred_train = output.argmax(dim=1, keepdim=True)\n",
        "        correct_train += pred_train.eq(target.view_as(pred_train)).sum().item()\n",
        "        total_train += data.size(0)  # 현재 배치의 데이터 수를 더함\n",
        "\n",
        "    # 전체 훈련 데이터에 대한 정확도 계산 및 저장\n",
        "    accuracy_train = 100. * correct_train / total_train\n",
        "    train_accuracy.append(accuracy_train)  # train accuracy 기록\n",
        "\n",
        "    # train loss 기록\n",
        "    train_loss = running_train_loss / len(train_loader) # 모든 batch의 평균 훈련 손실\n",
        "    train_losses.append(train_loss)\n",
        "\n",
        "\n",
        "    # == 검증 데이터셋을 사용한 모델 평가 ==\n",
        "\n",
        "    # ==  모델을 평가 모드로 설정 ==\n",
        "    model.eval()\n",
        "    val_loss = 0\n",
        "    correct = 0\n",
        "\n",
        "    # == 미분값 계산 x ==\n",
        "    with torch.no_grad():\n",
        "        for data, target in val_loader:\n",
        "            data, target = data.to(device), target.to(device)\n",
        "\n",
        "            # Forward 계산\n",
        "            output = model(data)\n",
        "\n",
        "            val_loss += criterion(output, target).item() # 손실함수 계산\n",
        "            pred = output.argmax(dim=1, keepdim=True) # 예측값(행마다)에서 가장 큰 값의 인덱스 가져옴, (n, 1)형식\n",
        "            correct += pred.eq(target.view_as(pred)).sum().item() # target을 pred와 같은 shape으로 만들어준다.\n",
        "            '''\n",
        "            .eq()는 두 tensor의 shape이 동일해야 비교 연산이 가능하다.\n",
        "            '''\n",
        "    validation_losses.append(val_loss / len(val_loader)) # validation loss 기록\n",
        "    val_loss /= len(val_loader.dataset) # 검증 손실함수\n",
        "    val_accuracy = 100. * correct / len(val_loader.dataset) # 검증 정확도\n",
        "\n",
        "    # == 가중치 저장 ==\n",
        "    if val_accuracy > best_accuracy:\n",
        "        best_accuracy = val_accuracy\n",
        "        torch.save(model.state_dict(), best_model_path)\n",
        "        print(f\"Weight Updated {best_accuracy}\")\n",
        "    validation_accuracy.append(val_accuracy) # validation accuracy 기록\n",
        "\n",
        "\n",
        "    # == 검증 결과 출력 ==\n",
        "    print('\\nValidation set: Average loss: {:.4f}, Accuracy: {}/{} ({:.2f}%)\\n'.format(\n",
        "        val_loss, correct, len(val_loader.dataset), val_accuracy))"
      ],
      "metadata": {
        "id": "Grc3m6Zqt6J9",
        "colab": {
          "base_uri": "https://localhost:8080/"
        },
        "outputId": "f2cfb975-9da0-4b2a-ae3d-104ade3b0cd9"
      },
      "execution_count": null,
      "outputs": [
        {
          "output_type": "stream",
          "name": "stderr",
          "text": [
            "/usr/local/lib/python3.10/dist-packages/torchvision/transforms/functional.py:1603: UserWarning: The default value of the antialias parameter of all the resizing transforms (Resize(), RandomResizedCrop(), etc.) will change from None to True in v0.17, in order to be consistent across the PIL and Tensor backends. To suppress this warning, directly pass antialias=True (recommended, future default), antialias=None (current default, which means False for Tensors and True for PIL), or antialias=False (only works on Tensors - PIL will still use antialiasing). This also applies if you are using the inference transforms from the models weights: update the call to weights.transforms(antialias=True).\n",
            "  warnings.warn(\n"
          ]
        },
        {
          "output_type": "stream",
          "name": "stdout",
          "text": [
            "0\n",
            "Epoch 1 [0/40000 (0%)]\tLoss: 13.784113\n",
            "100\n",
            "Epoch 1 [12800/40000 (32%)]\tLoss: 6.622264\n",
            "200\n",
            "Epoch 1 [25600/40000 (64%)]\tLoss: 5.948086\n",
            "300\n",
            "Epoch 1 [38400/40000 (96%)]\tLoss: 5.466837\n",
            "Weight Updated 38.49\n",
            "\n",
            "Validation set: Average loss: 0.0414, Accuracy: 3849/10000 (38.49%)\n",
            "\n",
            "0\n",
            "Epoch 2 [0/40000 (0%)]\tLoss: 5.571911\n",
            "100\n",
            "Epoch 2 [12800/40000 (32%)]\tLoss: 5.859042\n",
            "200\n",
            "Epoch 2 [25600/40000 (64%)]\tLoss: 5.499863\n",
            "300\n",
            "Epoch 2 [38400/40000 (96%)]\tLoss: 5.511615\n",
            "Weight Updated 45.61\n",
            "\n",
            "Validation set: Average loss: 0.0385, Accuracy: 4561/10000 (45.61%)\n",
            "\n",
            "0\n",
            "Epoch 3 [0/40000 (0%)]\tLoss: 5.463805\n",
            "100\n",
            "Epoch 3 [12800/40000 (32%)]\tLoss: 5.612221\n",
            "200\n",
            "Epoch 3 [25600/40000 (64%)]\tLoss: 5.453449\n",
            "300\n",
            "Epoch 3 [38400/40000 (96%)]\tLoss: 5.666025\n",
            "Weight Updated 49.52\n",
            "\n",
            "Validation set: Average loss: 0.0383, Accuracy: 4952/10000 (49.52%)\n",
            "\n",
            "0\n",
            "Epoch 4 [0/40000 (0%)]\tLoss: 5.453957\n",
            "100\n",
            "Epoch 4 [12800/40000 (32%)]\tLoss: 5.328113\n",
            "200\n",
            "Epoch 4 [25600/40000 (64%)]\tLoss: 5.527386\n",
            "300\n",
            "Epoch 4 [38400/40000 (96%)]\tLoss: 5.661595\n",
            "Weight Updated 53.03\n",
            "\n",
            "Validation set: Average loss: 0.0352, Accuracy: 5303/10000 (53.03%)\n",
            "\n",
            "0\n",
            "Epoch 5 [0/40000 (0%)]\tLoss: 5.344121\n",
            "100\n",
            "Epoch 5 [12800/40000 (32%)]\tLoss: 4.962547\n",
            "200\n",
            "Epoch 5 [25600/40000 (64%)]\tLoss: 5.575206\n",
            "300\n",
            "Epoch 5 [38400/40000 (96%)]\tLoss: 5.054218\n",
            "Weight Updated 55.42\n",
            "\n",
            "Validation set: Average loss: 0.0341, Accuracy: 5542/10000 (55.42%)\n",
            "\n",
            "0\n",
            "Epoch 6 [0/40000 (0%)]\tLoss: 5.030428\n",
            "100\n",
            "Epoch 6 [12800/40000 (32%)]\tLoss: 5.340648\n",
            "200\n",
            "Epoch 6 [25600/40000 (64%)]\tLoss: 5.207707\n",
            "300\n",
            "Epoch 6 [38400/40000 (96%)]\tLoss: 5.573549\n",
            "\n",
            "Validation set: Average loss: 0.0351, Accuracy: 5451/10000 (54.51%)\n",
            "\n",
            "0\n",
            "Epoch 7 [0/40000 (0%)]\tLoss: 5.675725\n",
            "100\n",
            "Epoch 7 [12800/40000 (32%)]\tLoss: 5.363441\n",
            "200\n",
            "Epoch 7 [25600/40000 (64%)]\tLoss: 5.499030\n",
            "300\n",
            "Epoch 7 [38400/40000 (96%)]\tLoss: 5.741253\n",
            "Weight Updated 59.08\n",
            "\n",
            "Validation set: Average loss: 0.0340, Accuracy: 5908/10000 (59.08%)\n",
            "\n",
            "0\n",
            "Epoch 8 [0/40000 (0%)]\tLoss: 5.549225\n",
            "100\n",
            "Epoch 8 [12800/40000 (32%)]\tLoss: 4.783064\n",
            "200\n",
            "Epoch 8 [25600/40000 (64%)]\tLoss: 5.054809\n",
            "300\n",
            "Epoch 8 [38400/40000 (96%)]\tLoss: 5.478746\n",
            "Weight Updated 59.43\n",
            "\n",
            "Validation set: Average loss: 0.0340, Accuracy: 5943/10000 (59.43%)\n",
            "\n",
            "0\n",
            "Epoch 9 [0/40000 (0%)]\tLoss: 5.819887\n",
            "100\n",
            "Epoch 9 [12800/40000 (32%)]\tLoss: 5.201071\n",
            "200\n",
            "Epoch 9 [25600/40000 (64%)]\tLoss: 5.350698\n",
            "300\n",
            "Epoch 9 [38400/40000 (96%)]\tLoss: 5.217128\n",
            "Weight Updated 60.29\n",
            "\n",
            "Validation set: Average loss: 0.0319, Accuracy: 6029/10000 (60.29%)\n",
            "\n",
            "0\n",
            "Epoch 10 [0/40000 (0%)]\tLoss: 5.000343\n",
            "100\n",
            "Epoch 10 [12800/40000 (32%)]\tLoss: 5.022211\n",
            "200\n",
            "Epoch 10 [25600/40000 (64%)]\tLoss: 5.419998\n",
            "300\n",
            "Epoch 10 [38400/40000 (96%)]\tLoss: 5.984364\n",
            "Weight Updated 62.29\n",
            "\n",
            "Validation set: Average loss: 0.0334, Accuracy: 6229/10000 (62.29%)\n",
            "\n"
          ]
        }
      ]
    },
    {
      "cell_type": "markdown",
      "source": [
        "# 모델 테스트"
      ],
      "metadata": {
        "id": "CM8o8W8AZqTM"
      }
    },
    {
      "cell_type": "code",
      "source": [
        "test_loader = torch.utils.data.DataLoader(test, batch_size = batch_size, shuffle = False)"
      ],
      "metadata": {
        "id": "emOlfh9UZr81"
      },
      "execution_count": null,
      "outputs": []
    },
    {
      "cell_type": "code",
      "source": [
        "model.eval()\n",
        "correct = 0\n",
        "total = 0\n",
        "\n",
        "with torch.no_grad():\n",
        "  for images, labels in test_loader:\n",
        "    images = images.to(device)\n",
        "    labels = labels.to(device)\n",
        "\n",
        "    outputs = model(images)\n",
        "    _, predicted = torch.max(outputs.data, 1) # 가장 높은값의 인덱스, 값 반환 --> 여기서는 가장 높은 값만 반환했다.\n",
        "\n",
        "    total += labels.size(0) # 전체 데이터 예측 개수(len(cifar_test_loader) 와 같다)\n",
        "    correct += (predicted == labels.to(torch.long)).sum().item() # predicted, labels의 텐서 타입이 일치하지 않아서 long으로 바꾸어줌.\n",
        "    # 맞으면 correct에 true, 틀리면 false 반환한다. 맞은 것만 개수 센다.\n",
        "\n",
        "accuracy = 100 * correct / total\n",
        "print(f'Accuracy : {accuracy}')"
      ],
      "metadata": {
        "id": "AHTNfacEZrVN",
        "colab": {
          "base_uri": "https://localhost:8080/"
        },
        "outputId": "3aee0eca-2d7c-4d11-e7e3-a8d70095cd9a"
      },
      "execution_count": null,
      "outputs": [
        {
          "output_type": "stream",
          "name": "stdout",
          "text": [
            "Accuracy : 63.37\n"
          ]
        }
      ]
    },
    {
      "cell_type": "markdown",
      "source": [
        "# Confusion Matrix 구현"
      ],
      "metadata": {
        "id": "UWTffpnAWiEO"
      }
    },
    {
      "cell_type": "code",
      "source": [
        "# == Confusion Matrix 출력 ==\n",
        "conf_matrix = confusion_matrix(y_true, y_pred)\n",
        "\n",
        "print('Confusion Matrix : ')\n",
        "print(conf_matrix)"
      ],
      "metadata": {
        "id": "kPRZDzoAuFfm",
        "colab": {
          "base_uri": "https://localhost:8080/"
        },
        "outputId": "27c02637-6616-46cc-c736-ab61d25ee5b5"
      },
      "execution_count": null,
      "outputs": [
        {
          "output_type": "stream",
          "name": "stdout",
          "text": [
            "Confusion Matrix : \n",
            "[[14845     4  5005 ...     0     0     1]\n",
            " [ 7772     7  2424 ...     1     0     0]\n",
            " [ 3649     4 11927 ...     0     0     0]\n",
            " ...\n",
            " [    0     0     0 ...     0     0     0]\n",
            " [    0     0     0 ...     0     0     0]\n",
            " [    0     0     0 ...     0     0     0]]\n"
          ]
        }
      ]
    },
    {
      "cell_type": "code",
      "source": [
        "# 클래스의 이름을 정의 (CIFAR-10의 경우)\n",
        "class_names = ['airplane', 'automobile', 'bird', 'cat', 'deer', 'dog', 'frog', 'horse', 'ship', 'truck']\n",
        "\n",
        "# Confusion matrix 시각화\n",
        "plt.figure(figsize=(8, 6))\n",
        "sns.set(font_scale=1.2)  # 폰트 크기 설정\n",
        "\n",
        "# Confusion matrix 히트맵 생성\n",
        "sns.heatmap(conf_matrix, annot=True, fmt='d', cmap='Blues', cbar=False,\n",
        "            xticklabels=class_names, yticklabels=class_names)\n",
        "\n",
        "plt.xlabel('Predicted Labels')\n",
        "plt.ylabel('True Labels')\n",
        "plt.title('Confusion Matrix')\n",
        "plt.xticks(rotation=45)\n",
        "plt.yticks(rotation=0)\n",
        "plt.tight_layout()\n",
        "plt.show()\n",
        "\n",
        "\n",
        "'''\n",
        "1. Recall\n",
        "2. Precision\n",
        "3. F1-score 구해보기\n",
        "\n",
        "\n",
        "'''"
      ],
      "metadata": {
        "id": "oiQOvWIVPvY_",
        "colab": {
          "base_uri": "https://localhost:8080/",
          "height": 824
        },
        "outputId": "9fe06b22-804f-4465-d749-1446cf4b95d8"
      },
      "execution_count": null,
      "outputs": [
        {
          "output_type": "error",
          "ename": "KeyboardInterrupt",
          "evalue": "ignored",
          "traceback": [
            "\u001b[0;31m---------------------------------------------------------------------------\u001b[0m",
            "\u001b[0;31mKeyboardInterrupt\u001b[0m                         Traceback (most recent call last)",
            "\u001b[0;32m<ipython-input-25-8bedaca37f13>\u001b[0m in \u001b[0;36m<cell line: 9>\u001b[0;34m()\u001b[0m\n\u001b[1;32m      7\u001b[0m \u001b[0;34m\u001b[0m\u001b[0m\n\u001b[1;32m      8\u001b[0m \u001b[0;31m# Confusion matrix 히트맵 생성\u001b[0m\u001b[0;34m\u001b[0m\u001b[0;34m\u001b[0m\u001b[0m\n\u001b[0;32m----> 9\u001b[0;31m sns.heatmap(conf_matrix, annot=True, fmt='d', cmap='Blues', cbar=False,\n\u001b[0m\u001b[1;32m     10\u001b[0m             xticklabels=class_names, yticklabels=class_names)\n\u001b[1;32m     11\u001b[0m \u001b[0;34m\u001b[0m\u001b[0m\n",
            "\u001b[0;32m/usr/local/lib/python3.10/dist-packages/seaborn/matrix.py\u001b[0m in \u001b[0;36mheatmap\u001b[0;34m(data, vmin, vmax, cmap, center, robust, annot, fmt, annot_kws, linewidths, linecolor, cbar, cbar_kws, cbar_ax, square, xticklabels, yticklabels, mask, ax, **kwargs)\u001b[0m\n\u001b[1;32m    457\u001b[0m     \u001b[0;32mif\u001b[0m \u001b[0msquare\u001b[0m\u001b[0;34m:\u001b[0m\u001b[0;34m\u001b[0m\u001b[0;34m\u001b[0m\u001b[0m\n\u001b[1;32m    458\u001b[0m         \u001b[0max\u001b[0m\u001b[0;34m.\u001b[0m\u001b[0mset_aspect\u001b[0m\u001b[0;34m(\u001b[0m\u001b[0;34m\"equal\"\u001b[0m\u001b[0;34m)\u001b[0m\u001b[0;34m\u001b[0m\u001b[0;34m\u001b[0m\u001b[0m\n\u001b[0;32m--> 459\u001b[0;31m     \u001b[0mplotter\u001b[0m\u001b[0;34m.\u001b[0m\u001b[0mplot\u001b[0m\u001b[0;34m(\u001b[0m\u001b[0max\u001b[0m\u001b[0;34m,\u001b[0m \u001b[0mcbar_ax\u001b[0m\u001b[0;34m,\u001b[0m \u001b[0mkwargs\u001b[0m\u001b[0;34m)\u001b[0m\u001b[0;34m\u001b[0m\u001b[0;34m\u001b[0m\u001b[0m\n\u001b[0m\u001b[1;32m    460\u001b[0m     \u001b[0;32mreturn\u001b[0m \u001b[0max\u001b[0m\u001b[0;34m\u001b[0m\u001b[0;34m\u001b[0m\u001b[0m\n\u001b[1;32m    461\u001b[0m \u001b[0;34m\u001b[0m\u001b[0m\n",
            "\u001b[0;32m/usr/local/lib/python3.10/dist-packages/seaborn/matrix.py\u001b[0m in \u001b[0;36mplot\u001b[0;34m(self, ax, cax, kws)\u001b[0m\n\u001b[1;32m    350\u001b[0m         \u001b[0;31m# Annotate the cells with the formatted values\u001b[0m\u001b[0;34m\u001b[0m\u001b[0;34m\u001b[0m\u001b[0m\n\u001b[1;32m    351\u001b[0m         \u001b[0;32mif\u001b[0m \u001b[0mself\u001b[0m\u001b[0;34m.\u001b[0m\u001b[0mannot\u001b[0m\u001b[0;34m:\u001b[0m\u001b[0;34m\u001b[0m\u001b[0;34m\u001b[0m\u001b[0m\n\u001b[0;32m--> 352\u001b[0;31m             \u001b[0mself\u001b[0m\u001b[0;34m.\u001b[0m\u001b[0m_annotate_heatmap\u001b[0m\u001b[0;34m(\u001b[0m\u001b[0max\u001b[0m\u001b[0;34m,\u001b[0m \u001b[0mmesh\u001b[0m\u001b[0;34m)\u001b[0m\u001b[0;34m\u001b[0m\u001b[0;34m\u001b[0m\u001b[0m\n\u001b[0m\u001b[1;32m    353\u001b[0m \u001b[0;34m\u001b[0m\u001b[0m\n\u001b[1;32m    354\u001b[0m \u001b[0;34m\u001b[0m\u001b[0m\n",
            "\u001b[0;32m/usr/local/lib/python3.10/dist-packages/seaborn/matrix.py\u001b[0m in \u001b[0;36m_annotate_heatmap\u001b[0;34m(self, ax, mesh)\u001b[0m\n\u001b[1;32m    261\u001b[0m                 \u001b[0mtext_kwargs\u001b[0m \u001b[0;34m=\u001b[0m \u001b[0mdict\u001b[0m\u001b[0;34m(\u001b[0m\u001b[0mcolor\u001b[0m\u001b[0;34m=\u001b[0m\u001b[0mtext_color\u001b[0m\u001b[0;34m,\u001b[0m \u001b[0mha\u001b[0m\u001b[0;34m=\u001b[0m\u001b[0;34m\"center\"\u001b[0m\u001b[0;34m,\u001b[0m \u001b[0mva\u001b[0m\u001b[0;34m=\u001b[0m\u001b[0;34m\"center\"\u001b[0m\u001b[0;34m)\u001b[0m\u001b[0;34m\u001b[0m\u001b[0;34m\u001b[0m\u001b[0m\n\u001b[1;32m    262\u001b[0m                 \u001b[0mtext_kwargs\u001b[0m\u001b[0;34m.\u001b[0m\u001b[0mupdate\u001b[0m\u001b[0;34m(\u001b[0m\u001b[0mself\u001b[0m\u001b[0;34m.\u001b[0m\u001b[0mannot_kws\u001b[0m\u001b[0;34m)\u001b[0m\u001b[0;34m\u001b[0m\u001b[0;34m\u001b[0m\u001b[0m\n\u001b[0;32m--> 263\u001b[0;31m                 \u001b[0max\u001b[0m\u001b[0;34m.\u001b[0m\u001b[0mtext\u001b[0m\u001b[0;34m(\u001b[0m\u001b[0mx\u001b[0m\u001b[0;34m,\u001b[0m \u001b[0my\u001b[0m\u001b[0;34m,\u001b[0m \u001b[0mannotation\u001b[0m\u001b[0;34m,\u001b[0m \u001b[0;34m**\u001b[0m\u001b[0mtext_kwargs\u001b[0m\u001b[0;34m)\u001b[0m\u001b[0;34m\u001b[0m\u001b[0;34m\u001b[0m\u001b[0m\n\u001b[0m\u001b[1;32m    264\u001b[0m \u001b[0;34m\u001b[0m\u001b[0m\n\u001b[1;32m    265\u001b[0m     \u001b[0;32mdef\u001b[0m \u001b[0m_skip_ticks\u001b[0m\u001b[0;34m(\u001b[0m\u001b[0mself\u001b[0m\u001b[0;34m,\u001b[0m \u001b[0mlabels\u001b[0m\u001b[0;34m,\u001b[0m \u001b[0mtickevery\u001b[0m\u001b[0;34m)\u001b[0m\u001b[0;34m:\u001b[0m\u001b[0;34m\u001b[0m\u001b[0;34m\u001b[0m\u001b[0m\n",
            "\u001b[0;32m/usr/local/lib/python3.10/dist-packages/matplotlib/axes/_axes.py\u001b[0m in \u001b[0;36mtext\u001b[0;34m(self, x, y, s, fontdict, **kwargs)\u001b[0m\n\u001b[1;32m    687\u001b[0m             \u001b[0;34m**\u001b[0m\u001b[0mkwargs\u001b[0m\u001b[0;34m,\u001b[0m\u001b[0;34m\u001b[0m\u001b[0;34m\u001b[0m\u001b[0m\n\u001b[1;32m    688\u001b[0m         }\n\u001b[0;32m--> 689\u001b[0;31m         \u001b[0mt\u001b[0m \u001b[0;34m=\u001b[0m \u001b[0mmtext\u001b[0m\u001b[0;34m.\u001b[0m\u001b[0mText\u001b[0m\u001b[0;34m(\u001b[0m\u001b[0mx\u001b[0m\u001b[0;34m,\u001b[0m \u001b[0my\u001b[0m\u001b[0;34m,\u001b[0m \u001b[0mtext\u001b[0m\u001b[0;34m=\u001b[0m\u001b[0ms\u001b[0m\u001b[0;34m,\u001b[0m \u001b[0;34m**\u001b[0m\u001b[0meffective_kwargs\u001b[0m\u001b[0;34m)\u001b[0m\u001b[0;34m\u001b[0m\u001b[0;34m\u001b[0m\u001b[0m\n\u001b[0m\u001b[1;32m    690\u001b[0m         \u001b[0mt\u001b[0m\u001b[0;34m.\u001b[0m\u001b[0mset_clip_path\u001b[0m\u001b[0;34m(\u001b[0m\u001b[0mself\u001b[0m\u001b[0;34m.\u001b[0m\u001b[0mpatch\u001b[0m\u001b[0;34m)\u001b[0m\u001b[0;34m\u001b[0m\u001b[0;34m\u001b[0m\u001b[0m\n\u001b[1;32m    691\u001b[0m         \u001b[0mself\u001b[0m\u001b[0;34m.\u001b[0m\u001b[0m_add_text\u001b[0m\u001b[0;34m(\u001b[0m\u001b[0mt\u001b[0m\u001b[0;34m)\u001b[0m\u001b[0;34m\u001b[0m\u001b[0;34m\u001b[0m\u001b[0m\n",
            "\u001b[0;32m/usr/local/lib/python3.10/dist-packages/matplotlib/_api/deprecation.py\u001b[0m in \u001b[0;36mwrapper\u001b[0;34m(*args, **kwargs)\u001b[0m\n\u001b[1;32m    452\u001b[0m                 \u001b[0;34m\"parameter will become keyword-only %(removal)s.\"\u001b[0m\u001b[0;34m,\u001b[0m\u001b[0;34m\u001b[0m\u001b[0;34m\u001b[0m\u001b[0m\n\u001b[1;32m    453\u001b[0m                 name=name, obj_type=f\"parameter of {func.__name__}()\")\n\u001b[0;32m--> 454\u001b[0;31m         \u001b[0;32mreturn\u001b[0m \u001b[0mfunc\u001b[0m\u001b[0;34m(\u001b[0m\u001b[0;34m*\u001b[0m\u001b[0margs\u001b[0m\u001b[0;34m,\u001b[0m \u001b[0;34m**\u001b[0m\u001b[0mkwargs\u001b[0m\u001b[0;34m)\u001b[0m\u001b[0;34m\u001b[0m\u001b[0;34m\u001b[0m\u001b[0m\n\u001b[0m\u001b[1;32m    455\u001b[0m \u001b[0;34m\u001b[0m\u001b[0m\n\u001b[1;32m    456\u001b[0m     \u001b[0;31m# Don't modify *func*'s signature, as boilerplate.py needs it.\u001b[0m\u001b[0;34m\u001b[0m\u001b[0;34m\u001b[0m\u001b[0m\n",
            "\u001b[0;32m/usr/local/lib/python3.10/dist-packages/matplotlib/text.py\u001b[0m in \u001b[0;36m__init__\u001b[0;34m(self, x, y, text, color, verticalalignment, horizontalalignment, multialignment, fontproperties, rotation, linespacing, rotation_mode, usetex, wrap, transform_rotates_text, parse_math, **kwargs)\u001b[0m\n\u001b[1;32m    166\u001b[0m         \u001b[0mself\u001b[0m\u001b[0;34m.\u001b[0m\u001b[0m_x\u001b[0m\u001b[0;34m,\u001b[0m \u001b[0mself\u001b[0m\u001b[0;34m.\u001b[0m\u001b[0m_y\u001b[0m \u001b[0;34m=\u001b[0m \u001b[0mx\u001b[0m\u001b[0;34m,\u001b[0m \u001b[0my\u001b[0m\u001b[0;34m\u001b[0m\u001b[0;34m\u001b[0m\u001b[0m\n\u001b[1;32m    167\u001b[0m         \u001b[0mself\u001b[0m\u001b[0;34m.\u001b[0m\u001b[0m_text\u001b[0m \u001b[0;34m=\u001b[0m \u001b[0;34m''\u001b[0m\u001b[0;34m\u001b[0m\u001b[0;34m\u001b[0m\u001b[0m\n\u001b[0;32m--> 168\u001b[0;31m         self._reset_visual_defaults(\n\u001b[0m\u001b[1;32m    169\u001b[0m             \u001b[0mtext\u001b[0m\u001b[0;34m=\u001b[0m\u001b[0mtext\u001b[0m\u001b[0;34m,\u001b[0m\u001b[0;34m\u001b[0m\u001b[0;34m\u001b[0m\u001b[0m\n\u001b[1;32m    170\u001b[0m             \u001b[0mcolor\u001b[0m\u001b[0;34m=\u001b[0m\u001b[0mcolor\u001b[0m\u001b[0;34m,\u001b[0m\u001b[0;34m\u001b[0m\u001b[0;34m\u001b[0m\u001b[0m\n",
            "\u001b[0;32m/usr/local/lib/python3.10/dist-packages/matplotlib/text.py\u001b[0m in \u001b[0;36m_reset_visual_defaults\u001b[0;34m(self, text, color, fontproperties, usetex, parse_math, wrap, verticalalignment, horizontalalignment, multialignment, rotation, transform_rotates_text, linespacing, rotation_mode)\u001b[0m\n\u001b[1;32m    216\u001b[0m         \u001b[0;32mif\u001b[0m \u001b[0mlinespacing\u001b[0m \u001b[0;32mis\u001b[0m \u001b[0;32mNone\u001b[0m\u001b[0;34m:\u001b[0m\u001b[0;34m\u001b[0m\u001b[0;34m\u001b[0m\u001b[0m\n\u001b[1;32m    217\u001b[0m             \u001b[0mlinespacing\u001b[0m \u001b[0;34m=\u001b[0m \u001b[0;36m1.2\u001b[0m  \u001b[0;31m# Maybe use rcParam later.\u001b[0m\u001b[0;34m\u001b[0m\u001b[0;34m\u001b[0m\u001b[0m\n\u001b[0;32m--> 218\u001b[0;31m         \u001b[0mself\u001b[0m\u001b[0;34m.\u001b[0m\u001b[0mset_linespacing\u001b[0m\u001b[0;34m(\u001b[0m\u001b[0mlinespacing\u001b[0m\u001b[0;34m)\u001b[0m\u001b[0;34m\u001b[0m\u001b[0;34m\u001b[0m\u001b[0m\n\u001b[0m\u001b[1;32m    219\u001b[0m         \u001b[0mself\u001b[0m\u001b[0;34m.\u001b[0m\u001b[0mset_rotation_mode\u001b[0m\u001b[0;34m(\u001b[0m\u001b[0mrotation_mode\u001b[0m\u001b[0;34m)\u001b[0m\u001b[0;34m\u001b[0m\u001b[0;34m\u001b[0m\u001b[0m\n\u001b[1;32m    220\u001b[0m \u001b[0;34m\u001b[0m\u001b[0m\n",
            "\u001b[0;32m/usr/local/lib/python3.10/dist-packages/matplotlib/text.py\u001b[0m in \u001b[0;36mset_linespacing\u001b[0;34m(self, spacing)\u001b[0m\n\u001b[1;32m   1038\u001b[0m         \u001b[0mspacing\u001b[0m \u001b[0;34m:\u001b[0m \u001b[0mfloat\u001b[0m \u001b[0;34m(\u001b[0m\u001b[0mmultiple\u001b[0m \u001b[0mof\u001b[0m \u001b[0mfont\u001b[0m \u001b[0msize\u001b[0m\u001b[0;34m)\u001b[0m\u001b[0;34m\u001b[0m\u001b[0;34m\u001b[0m\u001b[0m\n\u001b[1;32m   1039\u001b[0m         \"\"\"\n\u001b[0;32m-> 1040\u001b[0;31m         \u001b[0m_api\u001b[0m\u001b[0;34m.\u001b[0m\u001b[0mcheck_isinstance\u001b[0m\u001b[0;34m(\u001b[0m\u001b[0mReal\u001b[0m\u001b[0;34m,\u001b[0m \u001b[0mspacing\u001b[0m\u001b[0;34m=\u001b[0m\u001b[0mspacing\u001b[0m\u001b[0;34m)\u001b[0m\u001b[0;34m\u001b[0m\u001b[0;34m\u001b[0m\u001b[0m\n\u001b[0m\u001b[1;32m   1041\u001b[0m         \u001b[0mself\u001b[0m\u001b[0;34m.\u001b[0m\u001b[0m_linespacing\u001b[0m \u001b[0;34m=\u001b[0m \u001b[0mspacing\u001b[0m\u001b[0;34m\u001b[0m\u001b[0;34m\u001b[0m\u001b[0m\n\u001b[1;32m   1042\u001b[0m         \u001b[0mself\u001b[0m\u001b[0;34m.\u001b[0m\u001b[0mstale\u001b[0m \u001b[0;34m=\u001b[0m \u001b[0;32mTrue\u001b[0m\u001b[0;34m\u001b[0m\u001b[0;34m\u001b[0m\u001b[0m\n",
            "\u001b[0;32m/usr/local/lib/python3.10/dist-packages/matplotlib/_api/__init__.py\u001b[0m in \u001b[0;36mcheck_isinstance\u001b[0;34m(_types, **kwargs)\u001b[0m\n\u001b[1;32m     86\u001b[0m \u001b[0;34m\u001b[0m\u001b[0m\n\u001b[1;32m     87\u001b[0m     \u001b[0;32mfor\u001b[0m \u001b[0mk\u001b[0m\u001b[0;34m,\u001b[0m \u001b[0mv\u001b[0m \u001b[0;32min\u001b[0m \u001b[0mkwargs\u001b[0m\u001b[0;34m.\u001b[0m\u001b[0mitems\u001b[0m\u001b[0;34m(\u001b[0m\u001b[0;34m)\u001b[0m\u001b[0;34m:\u001b[0m\u001b[0;34m\u001b[0m\u001b[0;34m\u001b[0m\u001b[0m\n\u001b[0;32m---> 88\u001b[0;31m         \u001b[0;32mif\u001b[0m \u001b[0;32mnot\u001b[0m \u001b[0misinstance\u001b[0m\u001b[0;34m(\u001b[0m\u001b[0mv\u001b[0m\u001b[0;34m,\u001b[0m \u001b[0mtypes\u001b[0m\u001b[0;34m)\u001b[0m\u001b[0;34m:\u001b[0m\u001b[0;34m\u001b[0m\u001b[0;34m\u001b[0m\u001b[0m\n\u001b[0m\u001b[1;32m     89\u001b[0m             \u001b[0mnames\u001b[0m \u001b[0;34m=\u001b[0m \u001b[0;34m[\u001b[0m\u001b[0;34m*\u001b[0m\u001b[0mmap\u001b[0m\u001b[0;34m(\u001b[0m\u001b[0mtype_name\u001b[0m\u001b[0;34m,\u001b[0m \u001b[0mtypes\u001b[0m\u001b[0;34m)\u001b[0m\u001b[0;34m]\u001b[0m\u001b[0;34m\u001b[0m\u001b[0;34m\u001b[0m\u001b[0m\n\u001b[1;32m     90\u001b[0m             \u001b[0;32mif\u001b[0m \u001b[0;34m\"None\"\u001b[0m \u001b[0;32min\u001b[0m \u001b[0mnames\u001b[0m\u001b[0;34m:\u001b[0m  \u001b[0;31m# Move it to the end for better wording.\u001b[0m\u001b[0;34m\u001b[0m\u001b[0;34m\u001b[0m\u001b[0m\n",
            "\u001b[0;32m/usr/lib/python3.10/abc.py\u001b[0m in \u001b[0;36m__instancecheck__\u001b[0;34m(cls, instance)\u001b[0m\n\u001b[1;32m    117\u001b[0m         \u001b[0;32mdef\u001b[0m \u001b[0m__instancecheck__\u001b[0m\u001b[0;34m(\u001b[0m\u001b[0mcls\u001b[0m\u001b[0;34m,\u001b[0m \u001b[0minstance\u001b[0m\u001b[0;34m)\u001b[0m\u001b[0;34m:\u001b[0m\u001b[0;34m\u001b[0m\u001b[0;34m\u001b[0m\u001b[0m\n\u001b[1;32m    118\u001b[0m             \u001b[0;34m\"\"\"Override for isinstance(instance, cls).\"\"\"\u001b[0m\u001b[0;34m\u001b[0m\u001b[0;34m\u001b[0m\u001b[0m\n\u001b[0;32m--> 119\u001b[0;31m             \u001b[0;32mreturn\u001b[0m \u001b[0m_abc_instancecheck\u001b[0m\u001b[0;34m(\u001b[0m\u001b[0mcls\u001b[0m\u001b[0;34m,\u001b[0m \u001b[0minstance\u001b[0m\u001b[0;34m)\u001b[0m\u001b[0;34m\u001b[0m\u001b[0;34m\u001b[0m\u001b[0m\n\u001b[0m\u001b[1;32m    120\u001b[0m \u001b[0;34m\u001b[0m\u001b[0m\n\u001b[1;32m    121\u001b[0m         \u001b[0;32mdef\u001b[0m \u001b[0m__subclasscheck__\u001b[0m\u001b[0;34m(\u001b[0m\u001b[0mcls\u001b[0m\u001b[0;34m,\u001b[0m \u001b[0msubclass\u001b[0m\u001b[0;34m)\u001b[0m\u001b[0;34m:\u001b[0m\u001b[0;34m\u001b[0m\u001b[0;34m\u001b[0m\u001b[0m\n",
            "\u001b[0;32m/usr/lib/python3.10/abc.py\u001b[0m in \u001b[0;36m__subclasscheck__\u001b[0;34m(cls, subclass)\u001b[0m\n\u001b[1;32m    121\u001b[0m         \u001b[0;32mdef\u001b[0m \u001b[0m__subclasscheck__\u001b[0m\u001b[0;34m(\u001b[0m\u001b[0mcls\u001b[0m\u001b[0;34m,\u001b[0m \u001b[0msubclass\u001b[0m\u001b[0;34m)\u001b[0m\u001b[0;34m:\u001b[0m\u001b[0;34m\u001b[0m\u001b[0;34m\u001b[0m\u001b[0m\n\u001b[1;32m    122\u001b[0m             \u001b[0;34m\"\"\"Override for issubclass(subclass, cls).\"\"\"\u001b[0m\u001b[0;34m\u001b[0m\u001b[0;34m\u001b[0m\u001b[0m\n\u001b[0;32m--> 123\u001b[0;31m             \u001b[0;32mreturn\u001b[0m \u001b[0m_abc_subclasscheck\u001b[0m\u001b[0;34m(\u001b[0m\u001b[0mcls\u001b[0m\u001b[0;34m,\u001b[0m \u001b[0msubclass\u001b[0m\u001b[0;34m)\u001b[0m\u001b[0;34m\u001b[0m\u001b[0;34m\u001b[0m\u001b[0m\n\u001b[0m\u001b[1;32m    124\u001b[0m \u001b[0;34m\u001b[0m\u001b[0m\n\u001b[1;32m    125\u001b[0m         \u001b[0;32mdef\u001b[0m \u001b[0m_dump_registry\u001b[0m\u001b[0;34m(\u001b[0m\u001b[0mcls\u001b[0m\u001b[0;34m,\u001b[0m \u001b[0mfile\u001b[0m\u001b[0;34m=\u001b[0m\u001b[0;32mNone\u001b[0m\u001b[0;34m)\u001b[0m\u001b[0;34m:\u001b[0m\u001b[0;34m\u001b[0m\u001b[0;34m\u001b[0m\u001b[0m\n",
            "\u001b[0;31mKeyboardInterrupt\u001b[0m: "
          ]
        },
        {
          "output_type": "stream",
          "name": "stdout",
          "text": [
            "Error in callback <function _draw_all_if_interactive at 0x7951ea1e9fc0> (for post_execute):\n"
          ]
        },
        {
          "output_type": "error",
          "ename": "KeyboardInterrupt",
          "evalue": "ignored",
          "traceback": [
            "\u001b[0;31m---------------------------------------------------------------------------\u001b[0m",
            "\u001b[0;31mKeyboardInterrupt\u001b[0m                         Traceback (most recent call last)",
            "\u001b[0;32m/usr/local/lib/python3.10/dist-packages/matplotlib/pyplot.py\u001b[0m in \u001b[0;36m_draw_all_if_interactive\u001b[0;34m()\u001b[0m\n\u001b[1;32m    118\u001b[0m \u001b[0;32mdef\u001b[0m \u001b[0m_draw_all_if_interactive\u001b[0m\u001b[0;34m(\u001b[0m\u001b[0;34m)\u001b[0m\u001b[0;34m:\u001b[0m\u001b[0;34m\u001b[0m\u001b[0;34m\u001b[0m\u001b[0m\n\u001b[1;32m    119\u001b[0m     \u001b[0;32mif\u001b[0m \u001b[0mmatplotlib\u001b[0m\u001b[0;34m.\u001b[0m\u001b[0mis_interactive\u001b[0m\u001b[0;34m(\u001b[0m\u001b[0;34m)\u001b[0m\u001b[0;34m:\u001b[0m\u001b[0;34m\u001b[0m\u001b[0;34m\u001b[0m\u001b[0m\n\u001b[0;32m--> 120\u001b[0;31m         \u001b[0mdraw_all\u001b[0m\u001b[0;34m(\u001b[0m\u001b[0;34m)\u001b[0m\u001b[0;34m\u001b[0m\u001b[0;34m\u001b[0m\u001b[0m\n\u001b[0m\u001b[1;32m    121\u001b[0m \u001b[0;34m\u001b[0m\u001b[0m\n\u001b[1;32m    122\u001b[0m \u001b[0;34m\u001b[0m\u001b[0m\n",
            "\u001b[0;32m/usr/local/lib/python3.10/dist-packages/matplotlib/_pylab_helpers.py\u001b[0m in \u001b[0;36mdraw_all\u001b[0;34m(cls, force)\u001b[0m\n\u001b[1;32m    130\u001b[0m         \u001b[0;32mfor\u001b[0m \u001b[0mmanager\u001b[0m \u001b[0;32min\u001b[0m \u001b[0mcls\u001b[0m\u001b[0;34m.\u001b[0m\u001b[0mget_all_fig_managers\u001b[0m\u001b[0;34m(\u001b[0m\u001b[0;34m)\u001b[0m\u001b[0;34m:\u001b[0m\u001b[0;34m\u001b[0m\u001b[0;34m\u001b[0m\u001b[0m\n\u001b[1;32m    131\u001b[0m             \u001b[0;32mif\u001b[0m \u001b[0mforce\u001b[0m \u001b[0;32mor\u001b[0m \u001b[0mmanager\u001b[0m\u001b[0;34m.\u001b[0m\u001b[0mcanvas\u001b[0m\u001b[0;34m.\u001b[0m\u001b[0mfigure\u001b[0m\u001b[0;34m.\u001b[0m\u001b[0mstale\u001b[0m\u001b[0;34m:\u001b[0m\u001b[0;34m\u001b[0m\u001b[0;34m\u001b[0m\u001b[0m\n\u001b[0;32m--> 132\u001b[0;31m                 \u001b[0mmanager\u001b[0m\u001b[0;34m.\u001b[0m\u001b[0mcanvas\u001b[0m\u001b[0;34m.\u001b[0m\u001b[0mdraw_idle\u001b[0m\u001b[0;34m(\u001b[0m\u001b[0;34m)\u001b[0m\u001b[0;34m\u001b[0m\u001b[0;34m\u001b[0m\u001b[0m\n\u001b[0m\u001b[1;32m    133\u001b[0m \u001b[0;34m\u001b[0m\u001b[0m\n\u001b[1;32m    134\u001b[0m \u001b[0;34m\u001b[0m\u001b[0m\n",
            "\u001b[0;32m/usr/local/lib/python3.10/dist-packages/matplotlib/backend_bases.py\u001b[0m in \u001b[0;36mdraw_idle\u001b[0;34m(self, *args, **kwargs)\u001b[0m\n\u001b[1;32m   2080\u001b[0m         \u001b[0;32mif\u001b[0m \u001b[0;32mnot\u001b[0m \u001b[0mself\u001b[0m\u001b[0;34m.\u001b[0m\u001b[0m_is_idle_drawing\u001b[0m\u001b[0;34m:\u001b[0m\u001b[0;34m\u001b[0m\u001b[0;34m\u001b[0m\u001b[0m\n\u001b[1;32m   2081\u001b[0m             \u001b[0;32mwith\u001b[0m \u001b[0mself\u001b[0m\u001b[0;34m.\u001b[0m\u001b[0m_idle_draw_cntx\u001b[0m\u001b[0;34m(\u001b[0m\u001b[0;34m)\u001b[0m\u001b[0;34m:\u001b[0m\u001b[0;34m\u001b[0m\u001b[0;34m\u001b[0m\u001b[0m\n\u001b[0;32m-> 2082\u001b[0;31m                 \u001b[0mself\u001b[0m\u001b[0;34m.\u001b[0m\u001b[0mdraw\u001b[0m\u001b[0;34m(\u001b[0m\u001b[0;34m*\u001b[0m\u001b[0margs\u001b[0m\u001b[0;34m,\u001b[0m \u001b[0;34m**\u001b[0m\u001b[0mkwargs\u001b[0m\u001b[0;34m)\u001b[0m\u001b[0;34m\u001b[0m\u001b[0;34m\u001b[0m\u001b[0m\n\u001b[0m\u001b[1;32m   2083\u001b[0m \u001b[0;34m\u001b[0m\u001b[0m\n\u001b[1;32m   2084\u001b[0m     \u001b[0;34m@\u001b[0m\u001b[0mproperty\u001b[0m\u001b[0;34m\u001b[0m\u001b[0;34m\u001b[0m\u001b[0m\n",
            "\u001b[0;32m/usr/local/lib/python3.10/dist-packages/matplotlib/backends/backend_agg.py\u001b[0m in \u001b[0;36mdraw\u001b[0;34m(self)\u001b[0m\n\u001b[1;32m    398\u001b[0m              (self.toolbar._wait_cursor_for_draw_cm() if self.toolbar\n\u001b[1;32m    399\u001b[0m               else nullcontext()):\n\u001b[0;32m--> 400\u001b[0;31m             \u001b[0mself\u001b[0m\u001b[0;34m.\u001b[0m\u001b[0mfigure\u001b[0m\u001b[0;34m.\u001b[0m\u001b[0mdraw\u001b[0m\u001b[0;34m(\u001b[0m\u001b[0mself\u001b[0m\u001b[0;34m.\u001b[0m\u001b[0mrenderer\u001b[0m\u001b[0;34m)\u001b[0m\u001b[0;34m\u001b[0m\u001b[0;34m\u001b[0m\u001b[0m\n\u001b[0m\u001b[1;32m    401\u001b[0m             \u001b[0;31m# A GUI class may be need to update a window using this draw, so\u001b[0m\u001b[0;34m\u001b[0m\u001b[0;34m\u001b[0m\u001b[0m\n\u001b[1;32m    402\u001b[0m             \u001b[0;31m# don't forget to call the superclass.\u001b[0m\u001b[0;34m\u001b[0m\u001b[0;34m\u001b[0m\u001b[0m\n",
            "\u001b[0;32m/usr/local/lib/python3.10/dist-packages/matplotlib/artist.py\u001b[0m in \u001b[0;36mdraw_wrapper\u001b[0;34m(artist, renderer, *args, **kwargs)\u001b[0m\n\u001b[1;32m     93\u001b[0m     \u001b[0;34m@\u001b[0m\u001b[0mwraps\u001b[0m\u001b[0;34m(\u001b[0m\u001b[0mdraw\u001b[0m\u001b[0;34m)\u001b[0m\u001b[0;34m\u001b[0m\u001b[0;34m\u001b[0m\u001b[0m\n\u001b[1;32m     94\u001b[0m     \u001b[0;32mdef\u001b[0m \u001b[0mdraw_wrapper\u001b[0m\u001b[0;34m(\u001b[0m\u001b[0martist\u001b[0m\u001b[0;34m,\u001b[0m \u001b[0mrenderer\u001b[0m\u001b[0;34m,\u001b[0m \u001b[0;34m*\u001b[0m\u001b[0margs\u001b[0m\u001b[0;34m,\u001b[0m \u001b[0;34m**\u001b[0m\u001b[0mkwargs\u001b[0m\u001b[0;34m)\u001b[0m\u001b[0;34m:\u001b[0m\u001b[0;34m\u001b[0m\u001b[0;34m\u001b[0m\u001b[0m\n\u001b[0;32m---> 95\u001b[0;31m         \u001b[0mresult\u001b[0m \u001b[0;34m=\u001b[0m \u001b[0mdraw\u001b[0m\u001b[0;34m(\u001b[0m\u001b[0martist\u001b[0m\u001b[0;34m,\u001b[0m \u001b[0mrenderer\u001b[0m\u001b[0;34m,\u001b[0m \u001b[0;34m*\u001b[0m\u001b[0margs\u001b[0m\u001b[0;34m,\u001b[0m \u001b[0;34m**\u001b[0m\u001b[0mkwargs\u001b[0m\u001b[0;34m)\u001b[0m\u001b[0;34m\u001b[0m\u001b[0;34m\u001b[0m\u001b[0m\n\u001b[0m\u001b[1;32m     96\u001b[0m         \u001b[0;32mif\u001b[0m \u001b[0mrenderer\u001b[0m\u001b[0;34m.\u001b[0m\u001b[0m_rasterizing\u001b[0m\u001b[0;34m:\u001b[0m\u001b[0;34m\u001b[0m\u001b[0;34m\u001b[0m\u001b[0m\n\u001b[1;32m     97\u001b[0m             \u001b[0mrenderer\u001b[0m\u001b[0;34m.\u001b[0m\u001b[0mstop_rasterizing\u001b[0m\u001b[0;34m(\u001b[0m\u001b[0;34m)\u001b[0m\u001b[0;34m\u001b[0m\u001b[0;34m\u001b[0m\u001b[0m\n",
            "\u001b[0;32m/usr/local/lib/python3.10/dist-packages/matplotlib/artist.py\u001b[0m in \u001b[0;36mdraw_wrapper\u001b[0;34m(artist, renderer)\u001b[0m\n\u001b[1;32m     70\u001b[0m                 \u001b[0mrenderer\u001b[0m\u001b[0;34m.\u001b[0m\u001b[0mstart_filter\u001b[0m\u001b[0;34m(\u001b[0m\u001b[0;34m)\u001b[0m\u001b[0;34m\u001b[0m\u001b[0;34m\u001b[0m\u001b[0m\n\u001b[1;32m     71\u001b[0m \u001b[0;34m\u001b[0m\u001b[0m\n\u001b[0;32m---> 72\u001b[0;31m             \u001b[0;32mreturn\u001b[0m \u001b[0mdraw\u001b[0m\u001b[0;34m(\u001b[0m\u001b[0martist\u001b[0m\u001b[0;34m,\u001b[0m \u001b[0mrenderer\u001b[0m\u001b[0;34m)\u001b[0m\u001b[0;34m\u001b[0m\u001b[0;34m\u001b[0m\u001b[0m\n\u001b[0m\u001b[1;32m     73\u001b[0m         \u001b[0;32mfinally\u001b[0m\u001b[0;34m:\u001b[0m\u001b[0;34m\u001b[0m\u001b[0;34m\u001b[0m\u001b[0m\n\u001b[1;32m     74\u001b[0m             \u001b[0;32mif\u001b[0m \u001b[0martist\u001b[0m\u001b[0;34m.\u001b[0m\u001b[0mget_agg_filter\u001b[0m\u001b[0;34m(\u001b[0m\u001b[0;34m)\u001b[0m \u001b[0;32mis\u001b[0m \u001b[0;32mnot\u001b[0m \u001b[0;32mNone\u001b[0m\u001b[0;34m:\u001b[0m\u001b[0;34m\u001b[0m\u001b[0;34m\u001b[0m\u001b[0m\n",
            "\u001b[0;32m/usr/local/lib/python3.10/dist-packages/matplotlib/figure.py\u001b[0m in \u001b[0;36mdraw\u001b[0;34m(self, renderer)\u001b[0m\n\u001b[1;32m   3138\u001b[0m \u001b[0;34m\u001b[0m\u001b[0m\n\u001b[1;32m   3139\u001b[0m             \u001b[0mself\u001b[0m\u001b[0;34m.\u001b[0m\u001b[0mpatch\u001b[0m\u001b[0;34m.\u001b[0m\u001b[0mdraw\u001b[0m\u001b[0;34m(\u001b[0m\u001b[0mrenderer\u001b[0m\u001b[0;34m)\u001b[0m\u001b[0;34m\u001b[0m\u001b[0;34m\u001b[0m\u001b[0m\n\u001b[0;32m-> 3140\u001b[0;31m             mimage._draw_list_compositing_images(\n\u001b[0m\u001b[1;32m   3141\u001b[0m                 renderer, self, artists, self.suppressComposite)\n\u001b[1;32m   3142\u001b[0m \u001b[0;34m\u001b[0m\u001b[0m\n",
            "\u001b[0;32m/usr/local/lib/python3.10/dist-packages/matplotlib/image.py\u001b[0m in \u001b[0;36m_draw_list_compositing_images\u001b[0;34m(renderer, parent, artists, suppress_composite)\u001b[0m\n\u001b[1;32m    129\u001b[0m     \u001b[0;32mif\u001b[0m \u001b[0mnot_composite\u001b[0m \u001b[0;32mor\u001b[0m \u001b[0;32mnot\u001b[0m \u001b[0mhas_images\u001b[0m\u001b[0;34m:\u001b[0m\u001b[0;34m\u001b[0m\u001b[0;34m\u001b[0m\u001b[0m\n\u001b[1;32m    130\u001b[0m         \u001b[0;32mfor\u001b[0m \u001b[0ma\u001b[0m \u001b[0;32min\u001b[0m \u001b[0martists\u001b[0m\u001b[0;34m:\u001b[0m\u001b[0;34m\u001b[0m\u001b[0;34m\u001b[0m\u001b[0m\n\u001b[0;32m--> 131\u001b[0;31m             \u001b[0ma\u001b[0m\u001b[0;34m.\u001b[0m\u001b[0mdraw\u001b[0m\u001b[0;34m(\u001b[0m\u001b[0mrenderer\u001b[0m\u001b[0;34m)\u001b[0m\u001b[0;34m\u001b[0m\u001b[0;34m\u001b[0m\u001b[0m\n\u001b[0m\u001b[1;32m    132\u001b[0m     \u001b[0;32melse\u001b[0m\u001b[0;34m:\u001b[0m\u001b[0;34m\u001b[0m\u001b[0;34m\u001b[0m\u001b[0m\n\u001b[1;32m    133\u001b[0m         \u001b[0;31m# Composite any adjacent images together\u001b[0m\u001b[0;34m\u001b[0m\u001b[0;34m\u001b[0m\u001b[0m\n",
            "\u001b[0;32m/usr/local/lib/python3.10/dist-packages/matplotlib/artist.py\u001b[0m in \u001b[0;36mdraw_wrapper\u001b[0;34m(artist, renderer)\u001b[0m\n\u001b[1;32m     70\u001b[0m                 \u001b[0mrenderer\u001b[0m\u001b[0;34m.\u001b[0m\u001b[0mstart_filter\u001b[0m\u001b[0;34m(\u001b[0m\u001b[0;34m)\u001b[0m\u001b[0;34m\u001b[0m\u001b[0;34m\u001b[0m\u001b[0m\n\u001b[1;32m     71\u001b[0m \u001b[0;34m\u001b[0m\u001b[0m\n\u001b[0;32m---> 72\u001b[0;31m             \u001b[0;32mreturn\u001b[0m \u001b[0mdraw\u001b[0m\u001b[0;34m(\u001b[0m\u001b[0martist\u001b[0m\u001b[0;34m,\u001b[0m \u001b[0mrenderer\u001b[0m\u001b[0;34m)\u001b[0m\u001b[0;34m\u001b[0m\u001b[0;34m\u001b[0m\u001b[0m\n\u001b[0m\u001b[1;32m     73\u001b[0m         \u001b[0;32mfinally\u001b[0m\u001b[0;34m:\u001b[0m\u001b[0;34m\u001b[0m\u001b[0;34m\u001b[0m\u001b[0m\n\u001b[1;32m     74\u001b[0m             \u001b[0;32mif\u001b[0m \u001b[0martist\u001b[0m\u001b[0;34m.\u001b[0m\u001b[0mget_agg_filter\u001b[0m\u001b[0;34m(\u001b[0m\u001b[0;34m)\u001b[0m \u001b[0;32mis\u001b[0m \u001b[0;32mnot\u001b[0m \u001b[0;32mNone\u001b[0m\u001b[0;34m:\u001b[0m\u001b[0;34m\u001b[0m\u001b[0;34m\u001b[0m\u001b[0m\n",
            "\u001b[0;32m/usr/local/lib/python3.10/dist-packages/matplotlib/axes/_base.py\u001b[0m in \u001b[0;36mdraw\u001b[0;34m(self, renderer)\u001b[0m\n\u001b[1;32m   3062\u001b[0m             \u001b[0m_draw_rasterized\u001b[0m\u001b[0;34m(\u001b[0m\u001b[0mself\u001b[0m\u001b[0;34m.\u001b[0m\u001b[0mfigure\u001b[0m\u001b[0;34m,\u001b[0m \u001b[0martists_rasterized\u001b[0m\u001b[0;34m,\u001b[0m \u001b[0mrenderer\u001b[0m\u001b[0;34m)\u001b[0m\u001b[0;34m\u001b[0m\u001b[0;34m\u001b[0m\u001b[0m\n\u001b[1;32m   3063\u001b[0m \u001b[0;34m\u001b[0m\u001b[0m\n\u001b[0;32m-> 3064\u001b[0;31m         mimage._draw_list_compositing_images(\n\u001b[0m\u001b[1;32m   3065\u001b[0m             renderer, self, artists, self.figure.suppressComposite)\n\u001b[1;32m   3066\u001b[0m \u001b[0;34m\u001b[0m\u001b[0m\n",
            "\u001b[0;32m/usr/local/lib/python3.10/dist-packages/matplotlib/image.py\u001b[0m in \u001b[0;36m_draw_list_compositing_images\u001b[0;34m(renderer, parent, artists, suppress_composite)\u001b[0m\n\u001b[1;32m    129\u001b[0m     \u001b[0;32mif\u001b[0m \u001b[0mnot_composite\u001b[0m \u001b[0;32mor\u001b[0m \u001b[0;32mnot\u001b[0m \u001b[0mhas_images\u001b[0m\u001b[0;34m:\u001b[0m\u001b[0;34m\u001b[0m\u001b[0;34m\u001b[0m\u001b[0m\n\u001b[1;32m    130\u001b[0m         \u001b[0;32mfor\u001b[0m \u001b[0ma\u001b[0m \u001b[0;32min\u001b[0m \u001b[0martists\u001b[0m\u001b[0;34m:\u001b[0m\u001b[0;34m\u001b[0m\u001b[0;34m\u001b[0m\u001b[0m\n\u001b[0;32m--> 131\u001b[0;31m             \u001b[0ma\u001b[0m\u001b[0;34m.\u001b[0m\u001b[0mdraw\u001b[0m\u001b[0;34m(\u001b[0m\u001b[0mrenderer\u001b[0m\u001b[0;34m)\u001b[0m\u001b[0;34m\u001b[0m\u001b[0;34m\u001b[0m\u001b[0m\n\u001b[0m\u001b[1;32m    132\u001b[0m     \u001b[0;32melse\u001b[0m\u001b[0;34m:\u001b[0m\u001b[0;34m\u001b[0m\u001b[0;34m\u001b[0m\u001b[0m\n\u001b[1;32m    133\u001b[0m         \u001b[0;31m# Composite any adjacent images together\u001b[0m\u001b[0;34m\u001b[0m\u001b[0;34m\u001b[0m\u001b[0m\n",
            "\u001b[0;32m/usr/local/lib/python3.10/dist-packages/matplotlib/artist.py\u001b[0m in \u001b[0;36mdraw_wrapper\u001b[0;34m(artist, renderer)\u001b[0m\n\u001b[1;32m     70\u001b[0m                 \u001b[0mrenderer\u001b[0m\u001b[0;34m.\u001b[0m\u001b[0mstart_filter\u001b[0m\u001b[0;34m(\u001b[0m\u001b[0;34m)\u001b[0m\u001b[0;34m\u001b[0m\u001b[0;34m\u001b[0m\u001b[0m\n\u001b[1;32m     71\u001b[0m \u001b[0;34m\u001b[0m\u001b[0m\n\u001b[0;32m---> 72\u001b[0;31m             \u001b[0;32mreturn\u001b[0m \u001b[0mdraw\u001b[0m\u001b[0;34m(\u001b[0m\u001b[0martist\u001b[0m\u001b[0;34m,\u001b[0m \u001b[0mrenderer\u001b[0m\u001b[0;34m)\u001b[0m\u001b[0;34m\u001b[0m\u001b[0;34m\u001b[0m\u001b[0m\n\u001b[0m\u001b[1;32m     73\u001b[0m         \u001b[0;32mfinally\u001b[0m\u001b[0;34m:\u001b[0m\u001b[0;34m\u001b[0m\u001b[0;34m\u001b[0m\u001b[0m\n\u001b[1;32m     74\u001b[0m             \u001b[0;32mif\u001b[0m \u001b[0martist\u001b[0m\u001b[0;34m.\u001b[0m\u001b[0mget_agg_filter\u001b[0m\u001b[0;34m(\u001b[0m\u001b[0;34m)\u001b[0m \u001b[0;32mis\u001b[0m \u001b[0;32mnot\u001b[0m \u001b[0;32mNone\u001b[0m\u001b[0;34m:\u001b[0m\u001b[0;34m\u001b[0m\u001b[0;34m\u001b[0m\u001b[0m\n",
            "\u001b[0;32m/usr/local/lib/python3.10/dist-packages/matplotlib/text.py\u001b[0m in \u001b[0;36mdraw\u001b[0;34m(self, renderer)\u001b[0m\n\u001b[1;32m    798\u001b[0m                                           mtext=mtext)\n\u001b[1;32m    799\u001b[0m                 \u001b[0;32melse\u001b[0m\u001b[0;34m:\u001b[0m\u001b[0;34m\u001b[0m\u001b[0;34m\u001b[0m\u001b[0m\n\u001b[0;32m--> 800\u001b[0;31m                     textrenderer.draw_text(gc, x, y, clean_line,\n\u001b[0m\u001b[1;32m    801\u001b[0m                                            \u001b[0mself\u001b[0m\u001b[0;34m.\u001b[0m\u001b[0m_fontproperties\u001b[0m\u001b[0;34m,\u001b[0m \u001b[0mangle\u001b[0m\u001b[0;34m,\u001b[0m\u001b[0;34m\u001b[0m\u001b[0;34m\u001b[0m\u001b[0m\n\u001b[1;32m    802\u001b[0m                                            ismath=ismath, mtext=mtext)\n",
            "\u001b[0;32m/usr/local/lib/python3.10/dist-packages/matplotlib/backends/backend_agg.py\u001b[0m in \u001b[0;36mdraw_text\u001b[0;34m(self, gc, x, y, s, prop, angle, ismath, mtext)\u001b[0m\n\u001b[1;32m    207\u001b[0m         \u001b[0mfont\u001b[0m\u001b[0;34m.\u001b[0m\u001b[0mset_text\u001b[0m\u001b[0;34m(\u001b[0m\u001b[0ms\u001b[0m\u001b[0;34m,\u001b[0m \u001b[0;36m0\u001b[0m\u001b[0;34m,\u001b[0m \u001b[0mflags\u001b[0m\u001b[0;34m=\u001b[0m\u001b[0mget_hinting_flag\u001b[0m\u001b[0;34m(\u001b[0m\u001b[0;34m)\u001b[0m\u001b[0;34m)\u001b[0m\u001b[0;34m\u001b[0m\u001b[0;34m\u001b[0m\u001b[0m\n\u001b[1;32m    208\u001b[0m         font.draw_glyphs_to_bitmap(\n\u001b[0;32m--> 209\u001b[0;31m             antialiased=mpl.rcParams['text.antialiased'])\n\u001b[0m\u001b[1;32m    210\u001b[0m         \u001b[0md\u001b[0m \u001b[0;34m=\u001b[0m \u001b[0mfont\u001b[0m\u001b[0;34m.\u001b[0m\u001b[0mget_descent\u001b[0m\u001b[0;34m(\u001b[0m\u001b[0;34m)\u001b[0m \u001b[0;34m/\u001b[0m \u001b[0;36m64.0\u001b[0m\u001b[0;34m\u001b[0m\u001b[0;34m\u001b[0m\u001b[0m\n\u001b[1;32m    211\u001b[0m         \u001b[0;31m# The descent needs to be adjusted for the angle.\u001b[0m\u001b[0;34m\u001b[0m\u001b[0;34m\u001b[0m\u001b[0m\n",
            "\u001b[0;32m/usr/local/lib/python3.10/dist-packages/matplotlib/__init__.py\u001b[0m in \u001b[0;36m__getitem__\u001b[0;34m(self, key)\u001b[0m\n\u001b[1;32m    723\u001b[0m                 f\"a list of valid parameters)\") from err\n\u001b[1;32m    724\u001b[0m \u001b[0;34m\u001b[0m\u001b[0m\n\u001b[0;32m--> 725\u001b[0;31m     \u001b[0;32mdef\u001b[0m \u001b[0m__getitem__\u001b[0m\u001b[0;34m(\u001b[0m\u001b[0mself\u001b[0m\u001b[0;34m,\u001b[0m \u001b[0mkey\u001b[0m\u001b[0;34m)\u001b[0m\u001b[0;34m:\u001b[0m\u001b[0;34m\u001b[0m\u001b[0;34m\u001b[0m\u001b[0m\n\u001b[0m\u001b[1;32m    726\u001b[0m         \u001b[0;32mif\u001b[0m \u001b[0mkey\u001b[0m \u001b[0;32min\u001b[0m \u001b[0m_deprecated_map\u001b[0m\u001b[0;34m:\u001b[0m\u001b[0;34m\u001b[0m\u001b[0;34m\u001b[0m\u001b[0m\n\u001b[1;32m    727\u001b[0m             \u001b[0mversion\u001b[0m\u001b[0;34m,\u001b[0m \u001b[0malt_key\u001b[0m\u001b[0;34m,\u001b[0m \u001b[0malt_val\u001b[0m\u001b[0;34m,\u001b[0m \u001b[0minverse_alt\u001b[0m \u001b[0;34m=\u001b[0m \u001b[0m_deprecated_map\u001b[0m\u001b[0;34m[\u001b[0m\u001b[0mkey\u001b[0m\u001b[0;34m]\u001b[0m\u001b[0;34m\u001b[0m\u001b[0;34m\u001b[0m\u001b[0m\n",
            "\u001b[0;31mKeyboardInterrupt\u001b[0m: "
          ]
        }
      ]
    },
    {
      "cell_type": "markdown",
      "source": [
        "# train_loss와 validation_loss 시각화"
      ],
      "metadata": {
        "id": "F7DyNrr6XQM-"
      }
    },
    {
      "cell_type": "code",
      "source": [
        "def loss_visualization(train_loss, val_loss):\n",
        "\n",
        "  plt.figure(figsize = (8, 6))\n",
        "  plt.plot(train_losses, label = 'train_loss', marker = 'o')\n",
        "  plt.plot(val_loss, label = 'val_loss', marker = 's')\n",
        "  plt.title('Train Loss & Validaiton Loss')\n",
        "  plt.xticks(np.arange(0, len(train_loss)))\n",
        "  plt.xlabel('Epoch')\n",
        "  plt.ylabel('Loss(Cross Entropy)')\n",
        "  plt.legend()\n",
        "  plt.tight_layout()\n",
        "  plt.show()"
      ],
      "metadata": {
        "id": "mMJgF5YHVlr9"
      },
      "execution_count": null,
      "outputs": []
    },
    {
      "cell_type": "code",
      "source": [
        "loss_visualization(train_losses, validation_losses)\n",
        "\n",
        "\n",
        "'''\n",
        "overfitting 나지 않음\n",
        "\n",
        "'''"
      ],
      "metadata": {
        "id": "vvOvbwpoY4K-"
      },
      "execution_count": null,
      "outputs": []
    },
    {
      "cell_type": "markdown",
      "source": [
        "# train_accuracy와 validation_accuracy 시각화"
      ],
      "metadata": {
        "id": "rb0X7ybSYucj"
      }
    },
    {
      "cell_type": "code",
      "source": [
        "def acc_visualization(train_acc, val_acc):\n",
        "  plt.figure(figsize = (8, 6))\n",
        "  plt.plot(train_acc, label = 'train_acc', marker = 'o', ls = '--')\n",
        "  plt.plot(val_acc, label = 'val_acc', marker = 's')\n",
        "  plt.title('Train Accuracy & Validaiton Accuracy')\n",
        "  plt.xticks(np.arange(0, epochs, step=max(1, epochs // 10)))\n",
        "  plt.xlabel('Epoch')\n",
        "  plt.ylabel('Accuracy')\n",
        "  plt.legend()\n",
        "  plt.show()"
      ],
      "metadata": {
        "id": "Id_hCQO8YxZk"
      },
      "execution_count": null,
      "outputs": []
    },
    {
      "cell_type": "code",
      "source": [
        "acc_visualization(train_accuracy, validation_accuracy)\n",
        "\n",
        "'''\n",
        "overfitting x\n",
        "\n",
        "'''"
      ],
      "metadata": {
        "id": "yKlDPjt3YyiL"
      },
      "execution_count": null,
      "outputs": []
    },
    {
      "cell_type": "markdown",
      "source": [
        "# PCA 코드를 통해서 class별 embedding space 표현"
      ],
      "metadata": {
        "id": "1ZJ37u4Jbz02"
      }
    },
    {
      "cell_type": "code",
      "source": [
        "from sklearn.decomposition import PCA\n",
        "from sklearn.preprocessing import StandardScaler # PCA는 Normalization하면 좌표로 더 잘볼 수 있다."
      ],
      "metadata": {
        "id": "79RG4Bb0v7qP"
      },
      "execution_count": null,
      "outputs": []
    },
    {
      "cell_type": "code",
      "source": [
        "model.eval()\n",
        "\n",
        "images, labels = next(iter(test_loader))\n",
        "images = images.to(device)  # 이미 GPU로 로드된 모델의 가중치와 동일한 장치로 데이터 이동\n",
        "labels = labels.numpy()\n",
        "\n",
        "# AlexNet을 통과한 후의 특성 추출\n",
        "with torch.no_grad():\n",
        "    outputs = model(images)\n",
        "\n",
        "# PCA를 통한 2차원으로의 축소\n",
        "pca = PCA(n_components=2)\n",
        "pca_result = pca.fit_transform(outputs.cpu().numpy())  # PCA는 CPU에서 수행됨\n",
        "\n",
        "# 클래스 별로 embedding space 시각화\n",
        "plt.figure(figsize=(10, 8))\n",
        "for i in range(10):  # CIFAR-10에는 총 10개의 클래스가 있음\n",
        "    indices = np.where(labels == i)\n",
        "    plt.scatter(pca_result[indices, 0], pca_result[indices, 1], label=f'Class {i}')\n",
        "plt.legend()\n",
        "plt.title('Cifar10-Embedding Image Visualization')\n",
        "plt.xlabel('Principal Component 1')\n",
        "plt.ylabel('Principal Component 2')\n",
        "plt.show()\n"
      ],
      "metadata": {
        "id": "4brp4Xcub4k7"
      },
      "execution_count": null,
      "outputs": []
    },
    {
      "cell_type": "code",
      "source": [],
      "metadata": {
        "id": "NfoPbG4cxUAz"
      },
      "execution_count": null,
      "outputs": []
    }
  ]
}